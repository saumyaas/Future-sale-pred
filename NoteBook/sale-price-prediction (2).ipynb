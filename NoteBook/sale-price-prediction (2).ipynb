{
 "cells": [
  {
   "cell_type": "code",
   "execution_count": 1,
   "id": "chicken-bulgaria",
   "metadata": {
    "_cell_guid": "b1076dfc-b9ad-4769-8c92-a6c4dae69d19",
    "_uuid": "8f2839f25d086af736a60e9eeb907d3b93b6e0e5",
    "execution": {
     "iopub.execute_input": "2021-04-28T08:39:59.339547Z",
     "iopub.status.busy": "2021-04-28T08:39:59.338892Z",
     "iopub.status.idle": "2021-04-28T08:40:01.138592Z",
     "shell.execute_reply": "2021-04-28T08:40:01.137902Z"
    },
    "papermill": {
     "duration": 1.857176,
     "end_time": "2021-04-28T08:40:01.138755",
     "exception": false,
     "start_time": "2021-04-28T08:39:59.281579",
     "status": "completed"
    },
    "tags": []
   },
   "outputs": [
    {
     "name": "stdout",
     "output_type": "stream",
     "text": [
      "/kaggle/input/competitive-data-science-predict-future-sales/items.csv\n",
      "/kaggle/input/competitive-data-science-predict-future-sales/sample_submission.csv\n",
      "/kaggle/input/competitive-data-science-predict-future-sales/item_categories.csv\n",
      "/kaggle/input/competitive-data-science-predict-future-sales/sales_train.csv\n",
      "/kaggle/input/competitive-data-science-predict-future-sales/shops.csv\n",
      "/kaggle/input/competitive-data-science-predict-future-sales/test.csv\n"
     ]
    }
   ],
   "source": [
    "# This Python 3 environment comes with many helpful analytics libraries installed\n",
    "# It is defined by the kaggle/python Docker image: https://github.com/kaggle/docker-python\n",
    "# For example, here's several helpful packages to load\n",
    "\n",
    "import numpy as np # linear algebra\n",
    "import pandas as pd # data processing, CSV file I/O (e.g. pd.read_csv)\n",
    "from itertools import product\n",
    "from collections import Counter\n",
    "from sklearn.cluster import KMeans\n",
    "import category_encoders as ce\n",
    "import warnings\n",
    "\n",
    "pd.set_option('display.max_rows', 400)\n",
    "pd.set_option('display.max_columns', 160)\n",
    "pd.set_option('display.max_colwidth', 40)\n",
    "warnings.filterwarnings(\"ignore\")\n",
    "# Input data files are available in the read-only \"../input/\" directory\n",
    "# For example, running this (by clicking run or pressing Shift+Enter) will list all files under the input directory\n",
    "\n",
    "import os\n",
    "for dirname, _, filenames in os.walk('/kaggle/input'):\n",
    "    for filename in filenames:\n",
    "        print(os.path.join(dirname, filename))\n",
    "\n",
    "# You can write up to 20GB to the current directory (/kaggle/working/) that gets preserved as output when you create a version using \"Save & Run All\" \n",
    "# You can also write temporary files to /kaggle/temp/, but they won't be saved outside of the current session"
   ]
  },
  {
   "cell_type": "code",
   "execution_count": 2,
   "id": "small-laugh",
   "metadata": {
    "execution": {
     "iopub.execute_input": "2021-04-28T08:40:01.233286Z",
     "iopub.status.busy": "2021-04-28T08:40:01.232632Z",
     "iopub.status.idle": "2021-04-28T08:40:04.323099Z",
     "shell.execute_reply": "2021-04-28T08:40:04.322130Z"
    },
    "papermill": {
     "duration": 3.138808,
     "end_time": "2021-04-28T08:40:04.323284",
     "exception": false,
     "start_time": "2021-04-28T08:40:01.184476",
     "status": "completed"
    },
    "tags": []
   },
   "outputs": [],
   "source": [
    "train=pd.read_csv(\"/kaggle/input/competitive-data-science-predict-future-sales/sales_train.csv\")\n",
    "test=pd.read_csv(\"/kaggle/input/competitive-data-science-predict-future-sales/test.csv\")"
   ]
  },
  {
   "cell_type": "code",
   "execution_count": 3,
   "id": "hundred-bangkok",
   "metadata": {
    "execution": {
     "iopub.execute_input": "2021-04-28T08:40:04.420655Z",
     "iopub.status.busy": "2021-04-28T08:40:04.419934Z",
     "iopub.status.idle": "2021-04-28T08:40:04.461039Z",
     "shell.execute_reply": "2021-04-28T08:40:04.460333Z"
    },
    "papermill": {
     "duration": 0.091639,
     "end_time": "2021-04-28T08:40:04.461213",
     "exception": false,
     "start_time": "2021-04-28T08:40:04.369574",
     "status": "completed"
    },
    "tags": []
   },
   "outputs": [
    {
     "data": {
      "text/html": [
       "<div>\n",
       "<style scoped>\n",
       "    .dataframe tbody tr th:only-of-type {\n",
       "        vertical-align: middle;\n",
       "    }\n",
       "\n",
       "    .dataframe tbody tr th {\n",
       "        vertical-align: top;\n",
       "    }\n",
       "\n",
       "    .dataframe thead th {\n",
       "        text-align: right;\n",
       "    }\n",
       "</style>\n",
       "<table border=\"1\" class=\"dataframe\">\n",
       "  <thead>\n",
       "    <tr style=\"text-align: right;\">\n",
       "      <th></th>\n",
       "      <th>0</th>\n",
       "      <th>1</th>\n",
       "      <th>2</th>\n",
       "      <th>3</th>\n",
       "    </tr>\n",
       "  </thead>\n",
       "  <tbody>\n",
       "    <tr>\n",
       "      <th>0</th>\n",
       "      <td>PC - Гарнитуры/Наушники</td>\n",
       "      <td>Аксессуары - PS2</td>\n",
       "      <td>Аксессуары - PS3</td>\n",
       "      <td>Аксессуары - PS4</td>\n",
       "    </tr>\n",
       "    <tr>\n",
       "      <th>1</th>\n",
       "      <td>Аксессуары - PSP</td>\n",
       "      <td>Аксессуары - PSVita</td>\n",
       "      <td>Аксессуары - XBOX 360</td>\n",
       "      <td>Аксессуары - XBOX ONE</td>\n",
       "    </tr>\n",
       "    <tr>\n",
       "      <th>2</th>\n",
       "      <td>Билеты (Цифра)</td>\n",
       "      <td>Доставка товара</td>\n",
       "      <td>Игровые консоли - PS2</td>\n",
       "      <td>Игровые консоли - PS3</td>\n",
       "    </tr>\n",
       "    <tr>\n",
       "      <th>3</th>\n",
       "      <td>Игровые консоли - PS4</td>\n",
       "      <td>Игровые консоли - PSP</td>\n",
       "      <td>Игровые консоли - PSVita</td>\n",
       "      <td>Игровые консоли - XBOX 360</td>\n",
       "    </tr>\n",
       "    <tr>\n",
       "      <th>4</th>\n",
       "      <td>Игровые консоли - XBOX ONE</td>\n",
       "      <td>Игровые консоли - Прочие</td>\n",
       "      <td>Игры - PS2</td>\n",
       "      <td>Игры - PS3</td>\n",
       "    </tr>\n",
       "    <tr>\n",
       "      <th>5</th>\n",
       "      <td>Игры - PS4</td>\n",
       "      <td>Игры - PSP</td>\n",
       "      <td>Игры - PSVita</td>\n",
       "      <td>Игры - XBOX 360</td>\n",
       "    </tr>\n",
       "    <tr>\n",
       "      <th>6</th>\n",
       "      <td>Игры - XBOX ONE</td>\n",
       "      <td>Игры - Аксессуары для игр</td>\n",
       "      <td>Игры Android - Цифра</td>\n",
       "      <td>Игры MAC - Цифра</td>\n",
       "    </tr>\n",
       "    <tr>\n",
       "      <th>7</th>\n",
       "      <td>Игры PC - Дополнительные издания</td>\n",
       "      <td>Игры PC - Коллекционные издания</td>\n",
       "      <td>Игры PC - Стандартные издания</td>\n",
       "      <td>Игры PC - Цифра</td>\n",
       "    </tr>\n",
       "    <tr>\n",
       "      <th>8</th>\n",
       "      <td>Карты оплаты (Кино, Музыка, Игры)</td>\n",
       "      <td>Карты оплаты - Live!</td>\n",
       "      <td>Карты оплаты - Live! (Цифра)</td>\n",
       "      <td>Карты оплаты - PSN</td>\n",
       "    </tr>\n",
       "    <tr>\n",
       "      <th>9</th>\n",
       "      <td>Карты оплаты - Windows (Цифра)</td>\n",
       "      <td>Кино - Blu-Ray</td>\n",
       "      <td>Кино - Blu-Ray 3D</td>\n",
       "      <td>Кино - Blu-Ray 4K</td>\n",
       "    </tr>\n",
       "    <tr>\n",
       "      <th>10</th>\n",
       "      <td>Кино - DVD</td>\n",
       "      <td>Кино - Коллекционное</td>\n",
       "      <td>Книги - Артбуки, энциклопедии</td>\n",
       "      <td>Книги - Аудиокниги</td>\n",
       "    </tr>\n",
       "    <tr>\n",
       "      <th>11</th>\n",
       "      <td>Книги - Аудиокниги (Цифра)</td>\n",
       "      <td>Книги - Аудиокниги 1С</td>\n",
       "      <td>Книги - Бизнес литература</td>\n",
       "      <td>Книги - Комиксы, манга</td>\n",
       "    </tr>\n",
       "    <tr>\n",
       "      <th>12</th>\n",
       "      <td>Книги - Компьютерная литература</td>\n",
       "      <td>Книги - Методические материалы 1С</td>\n",
       "      <td>Книги - Открытки</td>\n",
       "      <td>Книги - Познавательная литература</td>\n",
       "    </tr>\n",
       "    <tr>\n",
       "      <th>13</th>\n",
       "      <td>Книги - Путеводители</td>\n",
       "      <td>Книги - Художественная литература</td>\n",
       "      <td>Книги - Цифра</td>\n",
       "      <td>Музыка - CD локального производства</td>\n",
       "    </tr>\n",
       "    <tr>\n",
       "      <th>14</th>\n",
       "      <td>Музыка - CD фирменного производства</td>\n",
       "      <td>Музыка - MP3</td>\n",
       "      <td>Музыка - Винил</td>\n",
       "      <td>Музыка - Музыкальное видео</td>\n",
       "    </tr>\n",
       "    <tr>\n",
       "      <th>15</th>\n",
       "      <td>Музыка - Подарочные издания</td>\n",
       "      <td>Подарки - Атрибутика</td>\n",
       "      <td>Подарки - Гаджеты, роботы, спорт</td>\n",
       "      <td>Подарки - Мягкие игрушки</td>\n",
       "    </tr>\n",
       "    <tr>\n",
       "      <th>16</th>\n",
       "      <td>Подарки - Настольные игры</td>\n",
       "      <td>Подарки - Настольные игры (компактные)</td>\n",
       "      <td>Подарки - Открытки, наклейки</td>\n",
       "      <td>Подарки - Развитие</td>\n",
       "    </tr>\n",
       "    <tr>\n",
       "      <th>17</th>\n",
       "      <td>Подарки - Сертификаты, услуги</td>\n",
       "      <td>Подарки - Сувениры</td>\n",
       "      <td>Подарки - Сувениры (в навеску)</td>\n",
       "      <td>Подарки - Сумки, Альбомы, Коврики д/...</td>\n",
       "    </tr>\n",
       "    <tr>\n",
       "      <th>18</th>\n",
       "      <td>Подарки - Фигурки</td>\n",
       "      <td>Программы - 1С:Предприятие 8</td>\n",
       "      <td>Программы - MAC (Цифра)</td>\n",
       "      <td>Программы - Для дома и офиса</td>\n",
       "    </tr>\n",
       "    <tr>\n",
       "      <th>19</th>\n",
       "      <td>Программы - Для дома и офиса (Цифра)</td>\n",
       "      <td>Программы - Обучающие</td>\n",
       "      <td>Программы - Обучающие (Цифра)</td>\n",
       "      <td>Служебные</td>\n",
       "    </tr>\n",
       "    <tr>\n",
       "      <th>20</th>\n",
       "      <td>Служебные - Билеты</td>\n",
       "      <td>Чистые носители (шпиль)</td>\n",
       "      <td>Чистые носители (штучные)</td>\n",
       "      <td>Элементы питания</td>\n",
       "    </tr>\n",
       "  </tbody>\n",
       "</table>\n",
       "</div>"
      ],
      "text/plain": [
       "                                       0  \\\n",
       "0                PC - Гарнитуры/Наушники   \n",
       "1                       Аксессуары - PSP   \n",
       "2                         Билеты (Цифра)   \n",
       "3                  Игровые консоли - PS4   \n",
       "4             Игровые консоли - XBOX ONE   \n",
       "5                             Игры - PS4   \n",
       "6                        Игры - XBOX ONE   \n",
       "7       Игры PC - Дополнительные издания   \n",
       "8      Карты оплаты (Кино, Музыка, Игры)   \n",
       "9         Карты оплаты - Windows (Цифра)   \n",
       "10                            Кино - DVD   \n",
       "11            Книги - Аудиокниги (Цифра)   \n",
       "12       Книги - Компьютерная литература   \n",
       "13                  Книги - Путеводители   \n",
       "14   Музыка - CD фирменного производства   \n",
       "15           Музыка - Подарочные издания   \n",
       "16             Подарки - Настольные игры   \n",
       "17         Подарки - Сертификаты, услуги   \n",
       "18                     Подарки - Фигурки   \n",
       "19  Программы - Для дома и офиса (Цифра)   \n",
       "20                    Служебные - Билеты   \n",
       "\n",
       "                                         1                                 2  \\\n",
       "0                         Аксессуары - PS2                  Аксессуары - PS3   \n",
       "1                      Аксессуары - PSVita             Аксессуары - XBOX 360   \n",
       "2                          Доставка товара             Игровые консоли - PS2   \n",
       "3                    Игровые консоли - PSP          Игровые консоли - PSVita   \n",
       "4                 Игровые консоли - Прочие                        Игры - PS2   \n",
       "5                               Игры - PSP                     Игры - PSVita   \n",
       "6                Игры - Аксессуары для игр              Игры Android - Цифра   \n",
       "7          Игры PC - Коллекционные издания     Игры PC - Стандартные издания   \n",
       "8                     Карты оплаты - Live!      Карты оплаты - Live! (Цифра)   \n",
       "9                           Кино - Blu-Ray                 Кино - Blu-Ray 3D   \n",
       "10                    Кино - Коллекционное     Книги - Артбуки, энциклопедии   \n",
       "11                   Книги - Аудиокниги 1С         Книги - Бизнес литература   \n",
       "12       Книги - Методические материалы 1С                  Книги - Открытки   \n",
       "13       Книги - Художественная литература                     Книги - Цифра   \n",
       "14                            Музыка - MP3                    Музыка - Винил   \n",
       "15                    Подарки - Атрибутика  Подарки - Гаджеты, роботы, спорт   \n",
       "16  Подарки - Настольные игры (компактные)      Подарки - Открытки, наклейки   \n",
       "17                      Подарки - Сувениры    Подарки - Сувениры (в навеску)   \n",
       "18            Программы - 1С:Предприятие 8           Программы - MAC (Цифра)   \n",
       "19                   Программы - Обучающие     Программы - Обучающие (Цифра)   \n",
       "20                 Чистые носители (шпиль)         Чистые носители (штучные)   \n",
       "\n",
       "                                          3  \n",
       "0                          Аксессуары - PS4  \n",
       "1                     Аксессуары - XBOX ONE  \n",
       "2                     Игровые консоли - PS3  \n",
       "3                Игровые консоли - XBOX 360  \n",
       "4                                Игры - PS3  \n",
       "5                           Игры - XBOX 360  \n",
       "6                          Игры MAC - Цифра  \n",
       "7                           Игры PC - Цифра  \n",
       "8                        Карты оплаты - PSN  \n",
       "9                         Кино - Blu-Ray 4K  \n",
       "10                       Книги - Аудиокниги  \n",
       "11                   Книги - Комиксы, манга  \n",
       "12        Книги - Познавательная литература  \n",
       "13      Музыка - CD локального производства  \n",
       "14               Музыка - Музыкальное видео  \n",
       "15                 Подарки - Мягкие игрушки  \n",
       "16                       Подарки - Развитие  \n",
       "17  Подарки - Сумки, Альбомы, Коврики д/...  \n",
       "18             Программы - Для дома и офиса  \n",
       "19                                Служебные  \n",
       "20                         Элементы питания  "
      ]
     },
     "execution_count": 3,
     "metadata": {},
     "output_type": "execute_result"
    }
   ],
   "source": [
    "categories=pd.read_csv(\"/kaggle/input/competitive-data-science-predict-future-sales/item_categories.csv\")\n",
    "pd.DataFrame(categories.item_category_name.values.reshape(-1,4))"
   ]
  },
  {
   "cell_type": "code",
   "execution_count": 4,
   "id": "constant-korean",
   "metadata": {
    "execution": {
     "iopub.execute_input": "2021-04-28T08:40:04.564935Z",
     "iopub.status.busy": "2021-04-28T08:40:04.564223Z",
     "iopub.status.idle": "2021-04-28T08:40:04.570427Z",
     "shell.execute_reply": "2021-04-28T08:40:04.570895Z"
    },
    "papermill": {
     "duration": 0.064018,
     "end_time": "2021-04-28T08:40:04.571085",
     "exception": false,
     "start_time": "2021-04-28T08:40:04.507067",
     "status": "completed"
    },
    "tags": []
   },
   "outputs": [
    {
     "data": {
      "text/plain": [
       "0                                    PC\n",
       "1                            Аксессуары\n",
       "2                            Аксессуары\n",
       "3                            Аксессуары\n",
       "4                            Аксессуары\n",
       "5                            Аксессуары\n",
       "6                            Аксессуары\n",
       "7                            Аксессуары\n",
       "8                        Билеты (Цифра)\n",
       "9                       Доставка товара\n",
       "10                      Игровые консоли\n",
       "11                      Игровые консоли\n",
       "12                      Игровые консоли\n",
       "13                      Игровые консоли\n",
       "14                      Игровые консоли\n",
       "15                      Игровые консоли\n",
       "16                      Игровые консоли\n",
       "17                      Игровые консоли\n",
       "18                                 Игры\n",
       "19                                 Игры\n",
       "20                                 Игры\n",
       "21                                 Игры\n",
       "22                                 Игры\n",
       "23                                 Игры\n",
       "24                                 Игры\n",
       "25                                 Игры\n",
       "26                         Игры Android\n",
       "27                             Игры MAC\n",
       "28                              Игры PC\n",
       "29                              Игры PC\n",
       "30                              Игры PC\n",
       "31                              Игры PC\n",
       "32    Карты оплаты (Кино, Музыка, Игры)\n",
       "33                         Карты оплаты\n",
       "34                         Карты оплаты\n",
       "35                         Карты оплаты\n",
       "36                         Карты оплаты\n",
       "37                                 Кино\n",
       "38                                 Кино\n",
       "39                                 Кино\n",
       "40                                 Кино\n",
       "41                                 Кино\n",
       "42                                Книги\n",
       "43                                Книги\n",
       "44                                Книги\n",
       "45                                Книги\n",
       "46                                Книги\n",
       "47                                Книги\n",
       "48                                Книги\n",
       "49                                Книги\n",
       "50                                Книги\n",
       "51                                Книги\n",
       "52                                Книги\n",
       "53                                Книги\n",
       "54                                Книги\n",
       "55                               Музыка\n",
       "56                               Музыка\n",
       "57                               Музыка\n",
       "58                               Музыка\n",
       "59                               Музыка\n",
       "60                               Музыка\n",
       "61                              Подарки\n",
       "62                              Подарки\n",
       "63                              Подарки\n",
       "64                              Подарки\n",
       "65                              Подарки\n",
       "66                              Подарки\n",
       "67                              Подарки\n",
       "68                              Подарки\n",
       "69                              Подарки\n",
       "70                              Подарки\n",
       "71                              Подарки\n",
       "72                              Подарки\n",
       "73                            Программы\n",
       "74                            Программы\n",
       "75                            Программы\n",
       "76                            Программы\n",
       "77                            Программы\n",
       "78                            Программы\n",
       "79                            Служебные\n",
       "80                            Служебные\n",
       "81              Чистые носители (шпиль)\n",
       "82            Чистые носители (штучные)\n",
       "83                     Элементы питания\n",
       "Name: group, dtype: object"
      ]
     },
     "execution_count": 4,
     "metadata": {},
     "output_type": "execute_result"
    }
   ],
   "source": [
    "categories['group']=categories['item_category_name'].str.split('-')\n",
    "categories['group']=categories['group'].apply(lambda x: x[0].strip())\n",
    "categories.group"
   ]
  },
  {
   "cell_type": "code",
   "execution_count": 5,
   "id": "spectacular-africa",
   "metadata": {
    "execution": {
     "iopub.execute_input": "2021-04-28T08:40:04.671948Z",
     "iopub.status.busy": "2021-04-28T08:40:04.671026Z",
     "iopub.status.idle": "2021-04-28T08:40:05.161558Z",
     "shell.execute_reply": "2021-04-28T08:40:05.160838Z"
    },
    "papermill": {
     "duration": 0.541948,
     "end_time": "2021-04-28T08:40:05.161705",
     "exception": false,
     "start_time": "2021-04-28T08:40:04.619757",
     "status": "completed"
    },
    "tags": []
   },
   "outputs": [
    {
     "data": {
      "text/plain": [
       "<seaborn.axisgrid.FacetGrid at 0x7fbce8b37350>"
      ]
     },
     "execution_count": 5,
     "metadata": {},
     "output_type": "execute_result"
    },
    {
     "data": {
      "image/png": "[encoded data removed]",
      "text/plain": [
       "<Figure size 1584x360 with 1 Axes>"
      ]
     },
     "metadata": {
      "needs_background": "light"
     },
     "output_type": "display_data"
    }
   ],
   "source": [
    "import seaborn as sns\n",
    "\n",
    "sns.catplot(x='group', kind='count', palette=\"ch:.25\", data=categories, aspect=4.4)"
   ]
  },
  {
   "cell_type": "code",
   "execution_count": 6,
   "id": "victorian-master",
   "metadata": {
    "execution": {
     "iopub.execute_input": "2021-04-28T08:40:05.268229Z",
     "iopub.status.busy": "2021-04-28T08:40:05.267127Z",
     "iopub.status.idle": "2021-04-28T08:40:05.270782Z",
     "shell.execute_reply": "2021-04-28T08:40:05.270209Z"
    },
    "papermill": {
     "duration": 0.061064,
     "end_time": "2021-04-28T08:40:05.270969",
     "exception": false,
     "start_time": "2021-04-28T08:40:05.209905",
     "status": "completed"
    },
    "tags": []
   },
   "outputs": [],
   "source": [
    "from sklearn.preprocessing import LabelEncoder \n",
    "\n",
    "lbl = LabelEncoder() \n",
    "lbl.fit(list(categories.group.values)) \n",
    "categories['group_id'] = lbl.transform(list(categories.group.values))"
   ]
  },
  {
   "cell_type": "code",
   "execution_count": 7,
   "id": "lightweight-hudson",
   "metadata": {
    "execution": {
     "iopub.execute_input": "2021-04-28T08:40:05.378640Z",
     "iopub.status.busy": "2021-04-28T08:40:05.377720Z",
     "iopub.status.idle": "2021-04-28T08:40:05.459485Z",
     "shell.execute_reply": "2021-04-28T08:40:05.460100Z"
    },
    "papermill": {
     "duration": 0.137926,
     "end_time": "2021-04-28T08:40:05.460276",
     "exception": false,
     "start_time": "2021-04-28T08:40:05.322350",
     "status": "completed"
    },
    "tags": []
   },
   "outputs": [
    {
     "data": {
      "text/html": [
       "<div>\n",
       "<style scoped>\n",
       "    .dataframe tbody tr th:only-of-type {\n",
       "        vertical-align: middle;\n",
       "    }\n",
       "\n",
       "    .dataframe tbody tr th {\n",
       "        vertical-align: top;\n",
       "    }\n",
       "\n",
       "    .dataframe thead th {\n",
       "        text-align: right;\n",
       "    }\n",
       "</style>\n",
       "<table border=\"1\" class=\"dataframe\">\n",
       "  <thead>\n",
       "    <tr style=\"text-align: right;\">\n",
       "      <th></th>\n",
       "      <th>item_name</th>\n",
       "      <th>item_id</th>\n",
       "      <th>item_category_id</th>\n",
       "    </tr>\n",
       "  </thead>\n",
       "  <tbody>\n",
       "    <tr>\n",
       "      <th>0</th>\n",
       "      <td>! ВО ВЛАСТИ НАВАЖДЕНИЯ (ПЛАСТ.)     ...</td>\n",
       "      <td>0</td>\n",
       "      <td>40</td>\n",
       "    </tr>\n",
       "    <tr>\n",
       "      <th>1</th>\n",
       "      <td>!ABBYY FineReader 12 Professional Ed...</td>\n",
       "      <td>1</td>\n",
       "      <td>76</td>\n",
       "    </tr>\n",
       "    <tr>\n",
       "      <th>2</th>\n",
       "      <td>***В ЛУЧАХ СЛАВЫ   (UNV)            ...</td>\n",
       "      <td>2</td>\n",
       "      <td>40</td>\n",
       "    </tr>\n",
       "    <tr>\n",
       "      <th>3</th>\n",
       "      <td>***ГОЛУБАЯ ВОЛНА  (Univ)            ...</td>\n",
       "      <td>3</td>\n",
       "      <td>40</td>\n",
       "    </tr>\n",
       "    <tr>\n",
       "      <th>4</th>\n",
       "      <td>***КОРОБКА (СТЕКЛО)                 ...</td>\n",
       "      <td>4</td>\n",
       "      <td>40</td>\n",
       "    </tr>\n",
       "    <tr>\n",
       "      <th>...</th>\n",
       "      <td>...</td>\n",
       "      <td>...</td>\n",
       "      <td>...</td>\n",
       "    </tr>\n",
       "    <tr>\n",
       "      <th>22165</th>\n",
       "      <td>Ядерный титбит 2 [PC, Цифровая версия]</td>\n",
       "      <td>22165</td>\n",
       "      <td>31</td>\n",
       "    </tr>\n",
       "    <tr>\n",
       "      <th>22166</th>\n",
       "      <td>Язык запросов 1С:Предприятия  [Цифро...</td>\n",
       "      <td>22166</td>\n",
       "      <td>54</td>\n",
       "    </tr>\n",
       "    <tr>\n",
       "      <th>22167</th>\n",
       "      <td>Язык запросов 1С:Предприятия 8 (+CD)...</td>\n",
       "      <td>22167</td>\n",
       "      <td>49</td>\n",
       "    </tr>\n",
       "    <tr>\n",
       "      <th>22168</th>\n",
       "      <td>Яйцо для Little Inu</td>\n",
       "      <td>22168</td>\n",
       "      <td>62</td>\n",
       "    </tr>\n",
       "    <tr>\n",
       "      <th>22169</th>\n",
       "      <td>Яйцо дракона (Игра престолов)</td>\n",
       "      <td>22169</td>\n",
       "      <td>69</td>\n",
       "    </tr>\n",
       "  </tbody>\n",
       "</table>\n",
       "<p>22170 rows × 3 columns</p>\n",
       "</div>"
      ],
      "text/plain": [
       "                                     item_name  item_id  item_category_id\n",
       "0      ! ВО ВЛАСТИ НАВАЖДЕНИЯ (ПЛАСТ.)     ...        0                40\n",
       "1      !ABBYY FineReader 12 Professional Ed...        1                76\n",
       "2      ***В ЛУЧАХ СЛАВЫ   (UNV)            ...        2                40\n",
       "3      ***ГОЛУБАЯ ВОЛНА  (Univ)            ...        3                40\n",
       "4      ***КОРОБКА (СТЕКЛО)                 ...        4                40\n",
       "...                                        ...      ...               ...\n",
       "22165   Ядерный титбит 2 [PC, Цифровая версия]    22165                31\n",
       "22166  Язык запросов 1С:Предприятия  [Цифро...    22166                54\n",
       "22167  Язык запросов 1С:Предприятия 8 (+CD)...    22167                49\n",
       "22168                      Яйцо для Little Inu    22168                62\n",
       "22169            Яйцо дракона (Игра престолов)    22169                69\n",
       "\n",
       "[22170 rows x 3 columns]"
      ]
     },
     "execution_count": 7,
     "metadata": {},
     "output_type": "execute_result"
    }
   ],
   "source": [
    "items=pd.read_csv(\"/kaggle/input/competitive-data-science-predict-future-sales/items.csv\")\n",
    "items"
   ]
  },
  {
   "cell_type": "code",
   "execution_count": 8,
   "id": "moderate-sunset",
   "metadata": {
    "execution": {
     "iopub.execute_input": "2021-04-28T08:40:05.603555Z",
     "iopub.status.busy": "2021-04-28T08:40:05.569047Z",
     "iopub.status.idle": "2021-04-28T08:40:06.370873Z",
     "shell.execute_reply": "2021-04-28T08:40:06.370047Z"
    },
    "papermill": {
     "duration": 0.861836,
     "end_time": "2021-04-28T08:40:06.371046",
     "exception": false,
     "start_time": "2021-04-28T08:40:05.509210",
     "status": "completed"
    },
    "tags": []
   },
   "outputs": [],
   "source": [
    "items['item_name'] = items['item_name'].str.lower()\n",
    "items['item_name'] = items['item_name'].str.replace('.', '')\n",
    "for i in [r'[^\\w\\d\\s\\.]', r'\\bthe\\b', r'\\bin\\b', r'\\bis\\b',\n",
    "          r'\\bfor\\b', r'\\bof\\b', r'\\bon\\b', r'\\band\\b',  \n",
    "          r'\\bto\\b', r'\\bwith\\b' , r'\\byo\\b']:\n",
    "    items['item_name'] = items['item_name'].str.replace(i, ' ')\n",
    "items['item_name'] = items['item_name'].str.replace(r'\\b.\\b', ' ')\n",
    "\n",
    "#extract first n characters of name\n",
    "items['item_name_no_space'] = items['item_name'].str.replace(' ', '')\n",
    "items['item_name_first4'] = [x[:4] for x in items['item_name_no_space']]\n",
    "items['item_name_first6'] = [x[:6] for x in items['item_name_no_space']]\n",
    "items['item_name_first11'] = [x[:11] for x in items['item_name_no_space']]\n",
    "del items['item_name_no_space']\n"
   ]
  },
  {
   "cell_type": "code",
   "execution_count": 9,
   "id": "expensive-discrimination",
   "metadata": {
    "execution": {
     "iopub.execute_input": "2021-04-28T08:40:06.478497Z",
     "iopub.status.busy": "2021-04-28T08:40:06.477547Z",
     "iopub.status.idle": "2021-04-28T08:40:06.584600Z",
     "shell.execute_reply": "2021-04-28T08:40:06.583903Z"
    },
    "papermill": {
     "duration": 0.164855,
     "end_time": "2021-04-28T08:40:06.584749",
     "exception": false,
     "start_time": "2021-04-28T08:40:06.419894",
     "status": "completed"
    },
    "tags": []
   },
   "outputs": [
    {
     "data": {
      "text/html": [
       "<div>\n",
       "<style scoped>\n",
       "    .dataframe tbody tr th:only-of-type {\n",
       "        vertical-align: middle;\n",
       "    }\n",
       "\n",
       "    .dataframe tbody tr th {\n",
       "        vertical-align: top;\n",
       "    }\n",
       "\n",
       "    .dataframe thead th {\n",
       "        text-align: right;\n",
       "    }\n",
       "</style>\n",
       "<table border=\"1\" class=\"dataframe\">\n",
       "  <thead>\n",
       "    <tr style=\"text-align: right;\">\n",
       "      <th></th>\n",
       "      <th>item_name</th>\n",
       "      <th>item_id</th>\n",
       "      <th>item_category_id</th>\n",
       "      <th>item_name_first4</th>\n",
       "      <th>item_name_first6</th>\n",
       "      <th>item_name_first11</th>\n",
       "      <th>item_category_name</th>\n",
       "      <th>group</th>\n",
       "      <th>group_id</th>\n",
       "    </tr>\n",
       "  </thead>\n",
       "  <tbody>\n",
       "    <tr>\n",
       "      <th>9062</th>\n",
       "      <td>будь круче  bd</td>\n",
       "      <td>9062</td>\n",
       "      <td>37</td>\n",
       "      <td>1500</td>\n",
       "      <td>2232</td>\n",
       "      <td>3972</td>\n",
       "      <td>Кино - Blu-Ray</td>\n",
       "      <td>Кино</td>\n",
       "      <td>11</td>\n",
       "    </tr>\n",
       "    <tr>\n",
       "      <th>631</th>\n",
       "      <td>1с образовательная коллекция полезны...</td>\n",
       "      <td>631</td>\n",
       "      <td>77</td>\n",
       "      <td>45</td>\n",
       "      <td>54</td>\n",
       "      <td>72</td>\n",
       "      <td>Программы - Обучающие</td>\n",
       "      <td>Программы</td>\n",
       "      <td>15</td>\n",
       "    </tr>\n",
       "    <tr>\n",
       "      <th>11178</th>\n",
       "      <td>домашнее видео</td>\n",
       "      <td>11178</td>\n",
       "      <td>40</td>\n",
       "      <td>1906</td>\n",
       "      <td>2905</td>\n",
       "      <td>5017</td>\n",
       "      <td>Кино - DVD</td>\n",
       "      <td>Кино</td>\n",
       "      <td>11</td>\n",
       "    </tr>\n",
       "    <tr>\n",
       "      <th>8407</th>\n",
       "      <td>атлантис  регион</td>\n",
       "      <td>8407</td>\n",
       "      <td>40</td>\n",
       "      <td>1334</td>\n",
       "      <td>1983</td>\n",
       "      <td>3526</td>\n",
       "      <td>Кино - DVD</td>\n",
       "      <td>Кино</td>\n",
       "      <td>11</td>\n",
       "    </tr>\n",
       "    <tr>\n",
       "      <th>16696</th>\n",
       "      <td>отряд особого назначения  регион</td>\n",
       "      <td>16696</td>\n",
       "      <td>40</td>\n",
       "      <td>2811</td>\n",
       "      <td>4353</td>\n",
       "      <td>7636</td>\n",
       "      <td>Кино - DVD</td>\n",
       "      <td>Кино</td>\n",
       "      <td>11</td>\n",
       "    </tr>\n",
       "    <tr>\n",
       "      <th>13029</th>\n",
       "      <td>кузьмин владимир   динамик  динамик ...</td>\n",
       "      <td>13029</td>\n",
       "      <td>58</td>\n",
       "      <td>2299</td>\n",
       "      <td>3564</td>\n",
       "      <td>6315</td>\n",
       "      <td>Музыка - Винил</td>\n",
       "      <td>Музыка</td>\n",
       "      <td>13</td>\n",
       "    </tr>\n",
       "    <tr>\n",
       "      <th>8593</th>\n",
       "      <td>бакуган новая вестроя выпуск</td>\n",
       "      <td>8593</td>\n",
       "      <td>40</td>\n",
       "      <td>1352</td>\n",
       "      <td>2008</td>\n",
       "      <td>3565</td>\n",
       "      <td>Кино - DVD</td>\n",
       "      <td>Кино</td>\n",
       "      <td>11</td>\n",
       "    </tr>\n",
       "    <tr>\n",
       "      <th>16286</th>\n",
       "      <td>немыльные пузыри</td>\n",
       "      <td>16286</td>\n",
       "      <td>69</td>\n",
       "      <td>2652</td>\n",
       "      <td>4121</td>\n",
       "      <td>7255</td>\n",
       "      <td>Подарки - Сувениры</td>\n",
       "      <td>Подарки</td>\n",
       "      <td>14</td>\n",
       "    </tr>\n",
       "    <tr>\n",
       "      <th>4551</th>\n",
       "      <td>manson marilyn  born villain</td>\n",
       "      <td>4551</td>\n",
       "      <td>55</td>\n",
       "      <td>695</td>\n",
       "      <td>1009</td>\n",
       "      <td>1769</td>\n",
       "      <td>Музыка - CD локального производства</td>\n",
       "      <td>Музыка</td>\n",
       "      <td>13</td>\n",
       "    </tr>\n",
       "    <tr>\n",
       "      <th>3225</th>\n",
       "      <td>euro truck simulator      грузом по ...</td>\n",
       "      <td>3225</td>\n",
       "      <td>28</td>\n",
       "      <td>417</td>\n",
       "      <td>600</td>\n",
       "      <td>1068</td>\n",
       "      <td>Игры PC - Дополнительные издания</td>\n",
       "      <td>Игры PC</td>\n",
       "      <td>8</td>\n",
       "    </tr>\n",
       "  </tbody>\n",
       "</table>\n",
       "</div>"
      ],
      "text/plain": [
       "                                     item_name  item_id  item_category_id  \\\n",
       "9062                           будь круче  bd      9062                37   \n",
       "631    1с образовательная коллекция полезны...      631                77   \n",
       "11178                           домашнее видео    11178                40   \n",
       "8407                         атлантис  регион      8407                40   \n",
       "16696        отряд особого назначения  регион     16696                40   \n",
       "13029  кузьмин владимир   динамик  динамик ...    13029                58   \n",
       "8593            бакуган новая вестроя выпуск       8593                40   \n",
       "16286                         немыльные пузыри    16286                69   \n",
       "4551              manson marilyn  born villain     4551                55   \n",
       "3225   euro truck simulator      грузом по ...     3225                28   \n",
       "\n",
       "       item_name_first4  item_name_first6  item_name_first11  \\\n",
       "9062               1500              2232               3972   \n",
       "631                  45                54                 72   \n",
       "11178              1906              2905               5017   \n",
       "8407               1334              1983               3526   \n",
       "16696              2811              4353               7636   \n",
       "13029              2299              3564               6315   \n",
       "8593               1352              2008               3565   \n",
       "16286              2652              4121               7255   \n",
       "4551                695              1009               1769   \n",
       "3225                417               600               1068   \n",
       "\n",
       "                        item_category_name      group  group_id  \n",
       "9062                        Кино - Blu-Ray       Кино        11  \n",
       "631                  Программы - Обучающие  Программы        15  \n",
       "11178                           Кино - DVD       Кино        11  \n",
       "8407                            Кино - DVD       Кино        11  \n",
       "16696                           Кино - DVD       Кино        11  \n",
       "13029                       Музыка - Винил     Музыка        13  \n",
       "8593                            Кино - DVD       Кино        11  \n",
       "16286                   Подарки - Сувениры    Подарки        14  \n",
       "4551   Музыка - CD локального производства     Музыка        13  \n",
       "3225      Игры PC - Дополнительные издания    Игры PC         8  "
      ]
     },
     "execution_count": 9,
     "metadata": {},
     "output_type": "execute_result"
    }
   ],
   "source": [
    "le=LabelEncoder()\n",
    "items.item_name_first4=le.fit_transform(items.item_name_first4.values)\n",
    "items.item_name_first6 = le.fit_transform(items.item_name_first6.values)\n",
    "items.item_name_first11 = le.fit_transform(items.item_name_first11.values)\n",
    "\n",
    "#join category_name, group_name and group_id to items\n",
    "items = items.join(categories.set_index('item_category_id'), on='item_category_id')\n",
    "items.sample(10)"
   ]
  },
  {
   "cell_type": "code",
   "execution_count": 10,
   "id": "provincial-loading",
   "metadata": {
    "execution": {
     "iopub.execute_input": "2021-04-28T08:40:06.690488Z",
     "iopub.status.busy": "2021-04-28T08:40:06.689734Z",
     "iopub.status.idle": "2021-04-28T08:40:06.857566Z",
     "shell.execute_reply": "2021-04-28T08:40:06.856835Z"
    },
    "papermill": {
     "duration": 0.222894,
     "end_time": "2021-04-28T08:40:06.857717",
     "exception": false,
     "start_time": "2021-04-28T08:40:06.634823",
     "status": "completed"
    },
    "tags": []
   },
   "outputs": [
    {
     "data": {
      "text/html": [
       "<div>\n",
       "<style scoped>\n",
       "    .dataframe tbody tr th:only-of-type {\n",
       "        vertical-align: middle;\n",
       "    }\n",
       "\n",
       "    .dataframe tbody tr th {\n",
       "        vertical-align: top;\n",
       "    }\n",
       "\n",
       "    .dataframe thead th {\n",
       "        text-align: right;\n",
       "    }\n",
       "</style>\n",
       "<table border=\"1\" class=\"dataframe\">\n",
       "  <thead>\n",
       "    <tr style=\"text-align: right;\">\n",
       "      <th></th>\n",
       "      <th>date</th>\n",
       "      <th>date_block_num</th>\n",
       "      <th>shop_id</th>\n",
       "      <th>item_id</th>\n",
       "      <th>item_price</th>\n",
       "      <th>item_cnt_day</th>\n",
       "    </tr>\n",
       "  </thead>\n",
       "  <tbody>\n",
       "    <tr>\n",
       "      <th>323773</th>\n",
       "      <td>31.03.2013</td>\n",
       "      <td>2</td>\n",
       "      <td>25</td>\n",
       "      <td>1472</td>\n",
       "      <td>2599.0</td>\n",
       "      <td>1.0</td>\n",
       "    </tr>\n",
       "    <tr>\n",
       "      <th>156510</th>\n",
       "      <td>09.02.2013</td>\n",
       "      <td>1</td>\n",
       "      <td>24</td>\n",
       "      <td>11029</td>\n",
       "      <td>1599.0</td>\n",
       "      <td>1.0</td>\n",
       "    </tr>\n",
       "    <tr>\n",
       "      <th>2893055</th>\n",
       "      <td>20.10.2015</td>\n",
       "      <td>33</td>\n",
       "      <td>38</td>\n",
       "      <td>15594</td>\n",
       "      <td>249.0</td>\n",
       "      <td>1.0</td>\n",
       "    </tr>\n",
       "    <tr>\n",
       "      <th>929095</th>\n",
       "      <td>05.09.2013</td>\n",
       "      <td>8</td>\n",
       "      <td>54</td>\n",
       "      <td>7097</td>\n",
       "      <td>1799.0</td>\n",
       "      <td>1.0</td>\n",
       "    </tr>\n",
       "    <tr>\n",
       "      <th>408968</th>\n",
       "      <td>17.04.2013</td>\n",
       "      <td>3</td>\n",
       "      <td>54</td>\n",
       "      <td>17191</td>\n",
       "      <td>199.0</td>\n",
       "      <td>1.0</td>\n",
       "    </tr>\n",
       "    <tr>\n",
       "      <th>55273</th>\n",
       "      <td>12.01.2013</td>\n",
       "      <td>0</td>\n",
       "      <td>7</td>\n",
       "      <td>7218</td>\n",
       "      <td>1599.0</td>\n",
       "      <td>1.0</td>\n",
       "    </tr>\n",
       "    <tr>\n",
       "      <th>1264979</th>\n",
       "      <td>29.12.2013</td>\n",
       "      <td>11</td>\n",
       "      <td>46</td>\n",
       "      <td>20311</td>\n",
       "      <td>299.0</td>\n",
       "      <td>1.0</td>\n",
       "    </tr>\n",
       "    <tr>\n",
       "      <th>24371</th>\n",
       "      <td>05.01.2013</td>\n",
       "      <td>0</td>\n",
       "      <td>26</td>\n",
       "      <td>18721</td>\n",
       "      <td>149.0</td>\n",
       "      <td>1.0</td>\n",
       "    </tr>\n",
       "    <tr>\n",
       "      <th>199767</th>\n",
       "      <td>09.02.2013</td>\n",
       "      <td>1</td>\n",
       "      <td>37</td>\n",
       "      <td>4163</td>\n",
       "      <td>1590.0</td>\n",
       "      <td>1.0</td>\n",
       "    </tr>\n",
       "    <tr>\n",
       "      <th>74500</th>\n",
       "      <td>01.01.2013</td>\n",
       "      <td>0</td>\n",
       "      <td>54</td>\n",
       "      <td>21771</td>\n",
       "      <td>449.5</td>\n",
       "      <td>1.0</td>\n",
       "    </tr>\n",
       "  </tbody>\n",
       "</table>\n",
       "</div>"
      ],
      "text/plain": [
       "               date  date_block_num  shop_id  item_id  item_price  \\\n",
       "323773   31.03.2013               2       25     1472      2599.0   \n",
       "156510   09.02.2013               1       24    11029      1599.0   \n",
       "2893055  20.10.2015              33       38    15594       249.0   \n",
       "929095   05.09.2013               8       54     7097      1799.0   \n",
       "408968   17.04.2013               3       54    17191       199.0   \n",
       "55273    12.01.2013               0        7     7218      1599.0   \n",
       "1264979  29.12.2013              11       46    20311       299.0   \n",
       "24371    05.01.2013               0       26    18721       149.0   \n",
       "199767   09.02.2013               1       37     4163      1590.0   \n",
       "74500    01.01.2013               0       54    21771       449.5   \n",
       "\n",
       "         item_cnt_day  \n",
       "323773            1.0  \n",
       "156510            1.0  \n",
       "2893055           1.0  \n",
       "929095            1.0  \n",
       "408968            1.0  \n",
       "55273             1.0  \n",
       "1264979           1.0  \n",
       "24371             1.0  \n",
       "199767            1.0  \n",
       "74500             1.0  "
      ]
     },
     "execution_count": 10,
     "metadata": {},
     "output_type": "execute_result"
    }
   ],
   "source": [
    "train.sample(10)"
   ]
  },
  {
   "cell_type": "code",
   "execution_count": 11,
   "id": "future-hawaiian",
   "metadata": {
    "execution": {
     "iopub.execute_input": "2021-04-28T08:40:06.964635Z",
     "iopub.status.busy": "2021-04-28T08:40:06.963915Z",
     "iopub.status.idle": "2021-04-28T08:40:20.383728Z",
     "shell.execute_reply": "2021-04-28T08:40:20.383137Z"
    },
    "papermill": {
     "duration": 13.475552,
     "end_time": "2021-04-28T08:40:20.383891",
     "exception": false,
     "start_time": "2021-04-28T08:40:06.908339",
     "status": "completed"
    },
    "tags": []
   },
   "outputs": [
    {
     "data": {
      "text/plain": [
       "<seaborn.axisgrid.FacetGrid at 0x7fbce83d1250>"
      ]
     },
     "execution_count": 11,
     "metadata": {},
     "output_type": "execute_result"
    },
    {
     "data": {
      "image/png": "[encoded data removed]",
      "text/plain": [
       "<Figure size 360x360 with 1 Axes>"
      ]
     },
     "metadata": {
      "needs_background": "light"
     },
     "output_type": "display_data"
    }
   ],
   "source": [
    "sns.displot(x='item_price', kind='kde',data=train ,bw_adjust=2000)"
   ]
  },
  {
   "cell_type": "code",
   "execution_count": 12,
   "id": "wrapped-placement",
   "metadata": {
    "execution": {
     "iopub.execute_input": "2021-04-28T08:40:20.496543Z",
     "iopub.status.busy": "2021-04-28T08:40:20.495461Z",
     "iopub.status.idle": "2021-04-28T08:40:20.757286Z",
     "shell.execute_reply": "2021-04-28T08:40:20.756651Z"
    },
    "papermill": {
     "duration": 0.320716,
     "end_time": "2021-04-28T08:40:20.757432",
     "exception": false,
     "start_time": "2021-04-28T08:40:20.436716",
     "status": "completed"
    },
    "tags": []
   },
   "outputs": [],
   "source": [
    "train=train[train['item_price']>0] \n",
    "train=train[train['item_price']<500000]"
   ]
  },
  {
   "cell_type": "code",
   "execution_count": 13,
   "id": "favorite-pavilion",
   "metadata": {
    "execution": {
     "iopub.execute_input": "2021-04-28T08:40:20.870110Z",
     "iopub.status.busy": "2021-04-28T08:40:20.868039Z",
     "iopub.status.idle": "2021-04-28T08:40:34.302343Z",
     "shell.execute_reply": "2021-04-28T08:40:34.301611Z"
    },
    "papermill": {
     "duration": 13.492412,
     "end_time": "2021-04-28T08:40:34.302508",
     "exception": false,
     "start_time": "2021-04-28T08:40:20.810096",
     "status": "completed"
    },
    "tags": []
   },
   "outputs": [
    {
     "data": {
      "text/plain": [
       "<seaborn.axisgrid.FacetGrid at 0x7fbce0358390>"
      ]
     },
     "execution_count": 13,
     "metadata": {},
     "output_type": "execute_result"
    },
    {
     "data": {
      "image/png": "[encoded data removed]",
      "text/plain": [
       "<Figure size 360x360 with 1 Axes>"
      ]
     },
     "metadata": {
      "needs_background": "light"
     },
     "output_type": "display_data"
    }
   ],
   "source": [
    "sns.displot(x='item_cnt_day', kind='kde',data=train ,bw_adjust=2000)"
   ]
  },
  {
   "cell_type": "code",
   "execution_count": 14,
   "id": "equal-recipient",
   "metadata": {
    "execution": {
     "iopub.execute_input": "2021-04-28T08:40:34.421001Z",
     "iopub.status.busy": "2021-04-28T08:40:34.419796Z",
     "iopub.status.idle": "2021-04-28T08:40:34.670387Z",
     "shell.execute_reply": "2021-04-28T08:40:34.669684Z"
    },
    "papermill": {
     "duration": 0.312664,
     "end_time": "2021-04-28T08:40:34.670544",
     "exception": false,
     "start_time": "2021-04-28T08:40:34.357880",
     "status": "completed"
    },
    "tags": []
   },
   "outputs": [],
   "source": [
    "train=train[train['item_cnt_day']>0]\n",
    "train=train[train['item_cnt_day']<1000]"
   ]
  },
  {
   "cell_type": "code",
   "execution_count": 15,
   "id": "advanced-metropolitan",
   "metadata": {
    "execution": {
     "iopub.execute_input": "2021-04-28T08:40:34.789146Z",
     "iopub.status.busy": "2021-04-28T08:40:34.788257Z",
     "iopub.status.idle": "2021-04-28T08:40:34.881500Z",
     "shell.execute_reply": "2021-04-28T08:40:34.882224Z"
    },
    "papermill": {
     "duration": 0.159003,
     "end_time": "2021-04-28T08:40:34.882487",
     "exception": false,
     "start_time": "2021-04-28T08:40:34.723484",
     "status": "completed"
    },
    "tags": []
   },
   "outputs": [],
   "source": [
    "#Handling Duplicate Data\n",
    "\n",
    "train.loc[train['shop_id'] == 0, 'shop_id'] = 57\n",
    "train.loc[train['shop_id'] == 1, 'shop_id'] = 58\n",
    "train.loc[train['shop_id'] == 10, 'shop_id'] = 11\n",
    "train.loc[train['shop_id'] == 39, 'shop_id'] = 40\n",
    "\n",
    "test.loc[test['shop_id'] == 0, 'shop_id'] = 57\n",
    "test.loc[test['shop_id'] == 1, 'shop_id'] = 58\n",
    "test.loc[test['shop_id'] == 10, 'shop_id'] = 11\n",
    "test.loc[test['shop_id'] == 39, 'shop_id'] = 40"
   ]
  },
  {
   "cell_type": "code",
   "execution_count": 16,
   "id": "personal-hierarchy",
   "metadata": {
    "execution": {
     "iopub.execute_input": "2021-04-28T08:40:35.017594Z",
     "iopub.status.busy": "2021-04-28T08:40:35.016558Z",
     "iopub.status.idle": "2021-04-28T08:40:35.853632Z",
     "shell.execute_reply": "2021-04-28T08:40:35.852922Z"
    },
    "papermill": {
     "duration": 0.899376,
     "end_time": "2021-04-28T08:40:35.853780",
     "exception": false,
     "start_time": "2021-04-28T08:40:34.954404",
     "status": "completed"
    },
    "tags": []
   },
   "outputs": [],
   "source": [
    "train=train[train['shop_id'].isin(test.shop_id.unique())]\n",
    "train['date']=pd.to_datetime(train['date'],format='%d.%m.%Y')\n",
    "train['weekday']=train.date.dt.dayofweek\n",
    "\n",
    "train['revenue']=train['item_price']*train['item_cnt_day']"
   ]
  },
  {
   "cell_type": "code",
   "execution_count": 17,
   "id": "jewish-aging",
   "metadata": {
    "execution": {
     "iopub.execute_input": "2021-04-28T08:40:35.967614Z",
     "iopub.status.busy": "2021-04-28T08:40:35.966922Z",
     "iopub.status.idle": "2021-04-28T08:40:36.506682Z",
     "shell.execute_reply": "2021-04-28T08:40:36.507259Z"
    },
    "papermill": {
     "duration": 0.59992,
     "end_time": "2021-04-28T08:40:36.507456",
     "exception": false,
     "start_time": "2021-04-28T08:40:35.907536",
     "status": "completed"
    },
    "tags": []
   },
   "outputs": [],
   "source": [
    "train['first_day_of_sale']=train.date.dt.dayofyear\n",
    "train['first_day_of_sale']+=365*(train.date.dt.year-2013)\n",
    "train['first_day_of_sale']=train.groupby('item_id')['first_day_of_sale'].transform('min').astype('int16')"
   ]
  },
  {
   "cell_type": "code",
   "execution_count": 18,
   "id": "primary-background",
   "metadata": {
    "execution": {
     "iopub.execute_input": "2021-04-28T08:40:36.620012Z",
     "iopub.status.busy": "2021-04-28T08:40:36.619064Z",
     "iopub.status.idle": "2021-04-28T08:40:36.806710Z",
     "shell.execute_reply": "2021-04-28T08:40:36.806077Z"
    },
    "papermill": {
     "duration": 0.245035,
     "end_time": "2021-04-28T08:40:36.806879",
     "exception": false,
     "start_time": "2021-04-28T08:40:36.561844",
     "status": "completed"
    },
    "tags": []
   },
   "outputs": [
    {
     "data": {
      "text/html": [
       "<div>\n",
       "<style scoped>\n",
       "    .dataframe tbody tr th:only-of-type {\n",
       "        vertical-align: middle;\n",
       "    }\n",
       "\n",
       "    .dataframe tbody tr th {\n",
       "        vertical-align: top;\n",
       "    }\n",
       "\n",
       "    .dataframe thead th {\n",
       "        text-align: right;\n",
       "    }\n",
       "</style>\n",
       "<table border=\"1\" class=\"dataframe\">\n",
       "  <thead>\n",
       "    <tr style=\"text-align: right;\">\n",
       "      <th></th>\n",
       "      <th>shop_id</th>\n",
       "      <th>weekday</th>\n",
       "      <th>day_qual</th>\n",
       "    </tr>\n",
       "  </thead>\n",
       "  <tbody>\n",
       "    <tr>\n",
       "      <th>203</th>\n",
       "      <td>45</td>\n",
       "      <td>0</td>\n",
       "      <td>0.109307</td>\n",
       "    </tr>\n",
       "    <tr>\n",
       "      <th>13</th>\n",
       "      <td>3</td>\n",
       "      <td>6</td>\n",
       "      <td>0.187182</td>\n",
       "    </tr>\n",
       "    <tr>\n",
       "      <th>153</th>\n",
       "      <td>35</td>\n",
       "      <td>6</td>\n",
       "      <td>0.185610</td>\n",
       "    </tr>\n",
       "    <tr>\n",
       "      <th>183</th>\n",
       "      <td>41</td>\n",
       "      <td>1</td>\n",
       "      <td>0.114896</td>\n",
       "    </tr>\n",
       "    <tr>\n",
       "      <th>163</th>\n",
       "      <td>37</td>\n",
       "      <td>2</td>\n",
       "      <td>0.122280</td>\n",
       "    </tr>\n",
       "  </tbody>\n",
       "</table>\n",
       "</div>"
      ],
      "text/plain": [
       "     shop_id  weekday  day_qual\n",
       "203       45        0  0.109307\n",
       "13         3        6  0.187182\n",
       "153       35        6  0.185610\n",
       "183       41        1  0.114896\n",
       "163       37        2  0.122280"
      ]
     },
     "execution_count": 18,
     "metadata": {},
     "output_type": "execute_result"
    }
   ],
   "source": [
    "qual=train.groupby(['shop_id','weekday']).agg({'item_cnt_day':'sum'}).reset_index()\n",
    "qual=pd.merge(qual,train.groupby(['shop_id']).agg({'item_cnt_day':'sum'}).reset_index(),on='shop_id', how='left')\n",
    "qual.columns=['shop_id','weekday','shop_day_sales','shop_total_sales']\n",
    "qual['day_qual']=qual['shop_day_sales']/qual['shop_total_sales']\n",
    "qual=qual[['shop_id','weekday','day_qual']]\n",
    "\n",
    "qual.sample(5)"
   ]
  },
  {
   "cell_type": "code",
   "execution_count": 19,
   "id": "about-couple",
   "metadata": {
    "execution": {
     "iopub.execute_input": "2021-04-28T08:40:36.931393Z",
     "iopub.status.busy": "2021-04-28T08:40:36.929732Z",
     "iopub.status.idle": "2021-04-28T08:40:36.974709Z",
     "shell.execute_reply": "2021-04-28T08:40:36.974114Z"
    },
    "papermill": {
     "duration": 0.113203,
     "end_time": "2021-04-28T08:40:36.974883",
     "exception": false,
     "start_time": "2021-04-28T08:40:36.861680",
     "status": "completed"
    },
    "tags": []
   },
   "outputs": [
    {
     "data": {
      "text/html": [
       "<div>\n",
       "<style scoped>\n",
       "    .dataframe tbody tr th:only-of-type {\n",
       "        vertical-align: middle;\n",
       "    }\n",
       "\n",
       "    .dataframe tbody tr th {\n",
       "        vertical-align: top;\n",
       "    }\n",
       "\n",
       "    .dataframe thead th {\n",
       "        text-align: right;\n",
       "    }\n",
       "</style>\n",
       "<table border=\"1\" class=\"dataframe\">\n",
       "  <thead>\n",
       "    <tr style=\"text-align: right;\">\n",
       "      <th></th>\n",
       "      <th>date_block_num</th>\n",
       "      <th>shop_id</th>\n",
       "      <th>month</th>\n",
       "      <th>year</th>\n",
       "      <th>day_qual</th>\n",
       "      <th>first_day_of_month</th>\n",
       "    </tr>\n",
       "  </thead>\n",
       "  <tbody>\n",
       "    <tr>\n",
       "      <th>17</th>\n",
       "      <td>0</td>\n",
       "      <td>26</td>\n",
       "      <td>1</td>\n",
       "      <td>0</td>\n",
       "      <td>4.399888</td>\n",
       "      <td>1</td>\n",
       "    </tr>\n",
       "    <tr>\n",
       "      <th>59</th>\n",
       "      <td>1</td>\n",
       "      <td>26</td>\n",
       "      <td>2</td>\n",
       "      <td>0</td>\n",
       "      <td>4.000000</td>\n",
       "      <td>32</td>\n",
       "    </tr>\n",
       "    <tr>\n",
       "      <th>101</th>\n",
       "      <td>2</td>\n",
       "      <td>26</td>\n",
       "      <td>3</td>\n",
       "      <td>0</td>\n",
       "      <td>4.484770</td>\n",
       "      <td>60</td>\n",
       "    </tr>\n",
       "    <tr>\n",
       "      <th>143</th>\n",
       "      <td>3</td>\n",
       "      <td>26</td>\n",
       "      <td>4</td>\n",
       "      <td>0</td>\n",
       "      <td>4.251749</td>\n",
       "      <td>91</td>\n",
       "    </tr>\n",
       "    <tr>\n",
       "      <th>185</th>\n",
       "      <td>4</td>\n",
       "      <td>26</td>\n",
       "      <td>5</td>\n",
       "      <td>0</td>\n",
       "      <td>4.427114</td>\n",
       "      <td>121</td>\n",
       "    </tr>\n",
       "    <tr>\n",
       "      <th>227</th>\n",
       "      <td>5</td>\n",
       "      <td>26</td>\n",
       "      <td>6</td>\n",
       "      <td>0</td>\n",
       "      <td>4.321137</td>\n",
       "      <td>152</td>\n",
       "    </tr>\n",
       "    <tr>\n",
       "      <th>269</th>\n",
       "      <td>6</td>\n",
       "      <td>26</td>\n",
       "      <td>7</td>\n",
       "      <td>0</td>\n",
       "      <td>4.379822</td>\n",
       "      <td>182</td>\n",
       "    </tr>\n",
       "    <tr>\n",
       "      <th>311</th>\n",
       "      <td>7</td>\n",
       "      <td>26</td>\n",
       "      <td>8</td>\n",
       "      <td>0</td>\n",
       "      <td>4.473700</td>\n",
       "      <td>213</td>\n",
       "    </tr>\n",
       "    <tr>\n",
       "      <th>353</th>\n",
       "      <td>8</td>\n",
       "      <td>26</td>\n",
       "      <td>9</td>\n",
       "      <td>0</td>\n",
       "      <td>4.261819</td>\n",
       "      <td>244</td>\n",
       "    </tr>\n",
       "    <tr>\n",
       "      <th>395</th>\n",
       "      <td>9</td>\n",
       "      <td>26</td>\n",
       "      <td>10</td>\n",
       "      <td>0</td>\n",
       "      <td>4.399888</td>\n",
       "      <td>274</td>\n",
       "    </tr>\n",
       "    <tr>\n",
       "      <th>437</th>\n",
       "      <td>10</td>\n",
       "      <td>26</td>\n",
       "      <td>11</td>\n",
       "      <td>0</td>\n",
       "      <td>4.338292</td>\n",
       "      <td>305</td>\n",
       "    </tr>\n",
       "    <tr>\n",
       "      <th>479</th>\n",
       "      <td>11</td>\n",
       "      <td>26</td>\n",
       "      <td>12</td>\n",
       "      <td>0</td>\n",
       "      <td>4.398227</td>\n",
       "      <td>335</td>\n",
       "    </tr>\n",
       "    <tr>\n",
       "      <th>521</th>\n",
       "      <td>12</td>\n",
       "      <td>26</td>\n",
       "      <td>1</td>\n",
       "      <td>1</td>\n",
       "      <td>4.427114</td>\n",
       "      <td>366</td>\n",
       "    </tr>\n",
       "    <tr>\n",
       "      <th>563</th>\n",
       "      <td>13</td>\n",
       "      <td>26</td>\n",
       "      <td>2</td>\n",
       "      <td>1</td>\n",
       "      <td>4.000000</td>\n",
       "      <td>397</td>\n",
       "    </tr>\n",
       "    <tr>\n",
       "      <th>605</th>\n",
       "      <td>14</td>\n",
       "      <td>26</td>\n",
       "      <td>3</td>\n",
       "      <td>1</td>\n",
       "      <td>4.436478</td>\n",
       "      <td>425</td>\n",
       "    </tr>\n",
       "  </tbody>\n",
       "</table>\n",
       "</div>"
      ],
      "text/plain": [
       "     date_block_num  shop_id  month  year  day_qual  first_day_of_month\n",
       "17                0       26      1     0  4.399888                   1\n",
       "59                1       26      2     0  4.000000                  32\n",
       "101               2       26      3     0  4.484770                  60\n",
       "143               3       26      4     0  4.251749                  91\n",
       "185               4       26      5     0  4.427114                 121\n",
       "227               5       26      6     0  4.321137                 152\n",
       "269               6       26      7     0  4.379822                 182\n",
       "311               7       26      8     0  4.473700                 213\n",
       "353               8       26      9     0  4.261819                 244\n",
       "395               9       26     10     0  4.399888                 274\n",
       "437              10       26     11     0  4.338292                 305\n",
       "479              11       26     12     0  4.398227                 335\n",
       "521              12       26      1     1  4.427114                 366\n",
       "563              13       26      2     1  4.000000                 397\n",
       "605              14       26      3     1  4.436478                 425"
      ]
     },
     "execution_count": 19,
     "metadata": {},
     "output_type": "execute_result"
    }
   ],
   "source": [
    "dates=pd.DataFrame(data={'date':pd.date_range(start='2013-01-01',end='2015-11-30')})\n",
    "dates['year']=dates.date.dt.year-2013\n",
    "dates['month']=dates.date.dt.month\n",
    "dates['weekday']=dates.date.dt.weekday\n",
    "dates['date_block_num']=dates['year']*12+dates['month']-1\n",
    "dates['first_day_of_month']=dates.date.dt.dayofyear\n",
    "dates['first_day_of_month']+=365*dates['year']\n",
    "\n",
    "dates=dates.join(qual.set_index('weekday'), on='weekday')\n",
    "dates=dates.groupby(['date_block_num','shop_id','month','year']).agg({'day_qual':'sum','first_day_of_month':'min'}).reset_index()\n",
    "dates.query('shop_id==26').head(15)"
   ]
  },
  {
   "cell_type": "code",
   "execution_count": 20,
   "id": "solved-ability",
   "metadata": {
    "execution": {
     "iopub.execute_input": "2021-04-28T08:40:37.095948Z",
     "iopub.status.busy": "2021-04-28T08:40:37.095224Z",
     "iopub.status.idle": "2021-04-28T08:40:37.960028Z",
     "shell.execute_reply": "2021-04-28T08:40:37.959474Z"
    },
    "papermill": {
     "duration": 0.928295,
     "end_time": "2021-04-28T08:40:37.960189",
     "exception": false,
     "start_time": "2021-04-28T08:40:37.031894",
     "status": "completed"
    },
    "tags": []
   },
   "outputs": [
    {
     "data": {
      "text/html": [
       "<div>\n",
       "<style scoped>\n",
       "    .dataframe tbody tr th:only-of-type {\n",
       "        vertical-align: middle;\n",
       "    }\n",
       "\n",
       "    .dataframe tbody tr th {\n",
       "        vertical-align: top;\n",
       "    }\n",
       "\n",
       "    .dataframe thead th {\n",
       "        text-align: right;\n",
       "    }\n",
       "</style>\n",
       "<table border=\"1\" class=\"dataframe\">\n",
       "  <thead>\n",
       "    <tr style=\"text-align: right;\">\n",
       "      <th></th>\n",
       "      <th>shop_id</th>\n",
       "      <th>date_block_num</th>\n",
       "      <th>item_id</th>\n",
       "      <th>item_cnt</th>\n",
       "      <th>revenue</th>\n",
       "      <th>first_day_of_sale</th>\n",
       "    </tr>\n",
       "  </thead>\n",
       "  <tbody>\n",
       "    <tr>\n",
       "      <th>1115025</th>\n",
       "      <td>52</td>\n",
       "      <td>33</td>\n",
       "      <td>21671</td>\n",
       "      <td>1.0</td>\n",
       "      <td>399.0</td>\n",
       "      <td>985</td>\n",
       "    </tr>\n",
       "    <tr>\n",
       "      <th>915154</th>\n",
       "      <td>44</td>\n",
       "      <td>7</td>\n",
       "      <td>5591</td>\n",
       "      <td>1.0</td>\n",
       "      <td>1790.0</td>\n",
       "      <td>1</td>\n",
       "    </tr>\n",
       "    <tr>\n",
       "      <th>1204943</th>\n",
       "      <td>57</td>\n",
       "      <td>1</td>\n",
       "      <td>7066</td>\n",
       "      <td>1.0</td>\n",
       "      <td>578.0</td>\n",
       "      <td>2</td>\n",
       "    </tr>\n",
       "    <tr>\n",
       "      <th>920861</th>\n",
       "      <td>44</td>\n",
       "      <td>13</td>\n",
       "      <td>558</td>\n",
       "      <td>1.0</td>\n",
       "      <td>149.0</td>\n",
       "      <td>112</td>\n",
       "    </tr>\n",
       "    <tr>\n",
       "      <th>232309</th>\n",
       "      <td>15</td>\n",
       "      <td>11</td>\n",
       "      <td>15342</td>\n",
       "      <td>1.0</td>\n",
       "      <td>199.0</td>\n",
       "      <td>278</td>\n",
       "    </tr>\n",
       "  </tbody>\n",
       "</table>\n",
       "</div>"
      ],
      "text/plain": [
       "         shop_id  date_block_num  item_id  item_cnt  revenue  \\\n",
       "1115025       52              33    21671       1.0    399.0   \n",
       "915154        44               7     5591       1.0   1790.0   \n",
       "1204943       57               1     7066       1.0    578.0   \n",
       "920861        44              13      558       1.0    149.0   \n",
       "232309        15              11    15342       1.0    199.0   \n",
       "\n",
       "         first_day_of_sale  \n",
       "1115025                985  \n",
       "915154                   1  \n",
       "1204943                  2  \n",
       "920861                 112  \n",
       "232309                 278  "
      ]
     },
     "execution_count": 20,
     "metadata": {},
     "output_type": "execute_result"
    }
   ],
   "source": [
    "train=train.groupby(['shop_id','date_block_num','item_id']).agg({'item_cnt_day':'sum','revenue':'sum','first_day_of_sale':'first'}).reset_index().rename(columns={'item_cnt_day':'item_cnt'})\n",
    "train.sample(5)\n"
   ]
  },
  {
   "cell_type": "code",
   "execution_count": 21,
   "id": "negative-harvest",
   "metadata": {
    "execution": {
     "iopub.execute_input": "2021-04-28T08:40:38.080280Z",
     "iopub.status.busy": "2021-04-28T08:40:38.079529Z",
     "iopub.status.idle": "2021-04-28T08:40:54.507161Z",
     "shell.execute_reply": "2021-04-28T08:40:54.506302Z"
    },
    "papermill": {
     "duration": 16.491177,
     "end_time": "2021-04-28T08:40:54.507362",
     "exception": false,
     "start_time": "2021-04-28T08:40:38.016185",
     "status": "completed"
    },
    "tags": []
   },
   "outputs": [
    {
     "data": {
      "text/html": [
       "<div>\n",
       "<style scoped>\n",
       "    .dataframe tbody tr th:only-of-type {\n",
       "        vertical-align: middle;\n",
       "    }\n",
       "\n",
       "    .dataframe tbody tr th {\n",
       "        vertical-align: top;\n",
       "    }\n",
       "\n",
       "    .dataframe thead th {\n",
       "        text-align: right;\n",
       "    }\n",
       "</style>\n",
       "<table border=\"1\" class=\"dataframe\">\n",
       "  <thead>\n",
       "    <tr style=\"text-align: right;\">\n",
       "      <th></th>\n",
       "      <th>date_block_num</th>\n",
       "      <th>shop_id</th>\n",
       "      <th>item_id</th>\n",
       "    </tr>\n",
       "  </thead>\n",
       "  <tbody>\n",
       "    <tr>\n",
       "      <th>8642833</th>\n",
       "      <td>33</td>\n",
       "      <td>59</td>\n",
       "      <td>5662</td>\n",
       "    </tr>\n",
       "    <tr>\n",
       "      <th>8642834</th>\n",
       "      <td>33</td>\n",
       "      <td>59</td>\n",
       "      <td>10068</td>\n",
       "    </tr>\n",
       "    <tr>\n",
       "      <th>8642835</th>\n",
       "      <td>33</td>\n",
       "      <td>59</td>\n",
       "      <td>12839</td>\n",
       "    </tr>\n",
       "    <tr>\n",
       "      <th>8642836</th>\n",
       "      <td>33</td>\n",
       "      <td>59</td>\n",
       "      <td>18275</td>\n",
       "    </tr>\n",
       "    <tr>\n",
       "      <th>8642837</th>\n",
       "      <td>33</td>\n",
       "      <td>59</td>\n",
       "      <td>20392</td>\n",
       "    </tr>\n",
       "  </tbody>\n",
       "</table>\n",
       "</div>"
      ],
      "text/plain": [
       "         date_block_num  shop_id  item_id\n",
       "8642833              33       59     5662\n",
       "8642834              33       59    10068\n",
       "8642835              33       59    12839\n",
       "8642836              33       59    18275\n",
       "8642837              33       59    20392"
      ]
     },
     "execution_count": 21,
     "metadata": {},
     "output_type": "execute_result"
    }
   ],
   "source": [
    "df=[]\n",
    "for i in train['date_block_num'].unique():\n",
    "    cur_shop=train.loc[train['date_block_num']==i,'shop_id'].unique()\n",
    "    cur_item=train.loc[train['date_block_num']==i,'item_id'].unique()\n",
    "    df.append(np.array(list(product([i],cur_shop,cur_item))))\n",
    "\n",
    "base_features=['date_block_num','shop_id','item_id']\n",
    "df=pd.DataFrame(np.vstack(df),columns=base_features)\n",
    "df.tail(5)"
   ]
  },
  {
   "cell_type": "code",
   "execution_count": 22,
   "id": "cardiovascular-selling",
   "metadata": {
    "execution": {
     "iopub.execute_input": "2021-04-28T08:40:54.625776Z",
     "iopub.status.busy": "2021-04-28T08:40:54.624156Z",
     "iopub.status.idle": "2021-04-28T08:40:54.630794Z",
     "shell.execute_reply": "2021-04-28T08:40:54.630123Z"
    },
    "papermill": {
     "duration": 0.067342,
     "end_time": "2021-04-28T08:40:54.630980",
     "exception": false,
     "start_time": "2021-04-28T08:40:54.563638",
     "status": "completed"
    },
    "tags": []
   },
   "outputs": [],
   "source": [
    "test['date_block_num']=34\n",
    "del test['ID']"
   ]
  },
  {
   "cell_type": "code",
   "execution_count": 23,
   "id": "recognized-strand",
   "metadata": {
    "execution": {
     "iopub.execute_input": "2021-04-28T08:40:54.750640Z",
     "iopub.status.busy": "2021-04-28T08:40:54.749603Z",
     "iopub.status.idle": "2021-04-28T08:40:55.156804Z",
     "shell.execute_reply": "2021-04-28T08:40:55.157371Z"
    },
    "papermill": {
     "duration": 0.470377,
     "end_time": "2021-04-28T08:40:55.157571",
     "exception": false,
     "start_time": "2021-04-28T08:40:54.687194",
     "status": "completed"
    },
    "tags": []
   },
   "outputs": [],
   "source": [
    "df=pd.concat([df,test]).fillna(0).reset_index()\n"
   ]
  },
  {
   "cell_type": "code",
   "execution_count": 24,
   "id": "administrative-surface",
   "metadata": {
    "execution": {
     "iopub.execute_input": "2021-04-28T08:40:55.281309Z",
     "iopub.status.busy": "2021-04-28T08:40:55.280304Z",
     "iopub.status.idle": "2021-04-28T08:40:55.285804Z",
     "shell.execute_reply": "2021-04-28T08:40:55.284667Z"
    },
    "papermill": {
     "duration": 0.071853,
     "end_time": "2021-04-28T08:40:55.285982",
     "exception": false,
     "start_time": "2021-04-28T08:40:55.214129",
     "status": "completed"
    },
    "tags": []
   },
   "outputs": [
    {
     "data": {
      "text/html": [
       "<div>\n",
       "<style scoped>\n",
       "    .dataframe tbody tr th:only-of-type {\n",
       "        vertical-align: middle;\n",
       "    }\n",
       "\n",
       "    .dataframe tbody tr th {\n",
       "        vertical-align: top;\n",
       "    }\n",
       "\n",
       "    .dataframe thead th {\n",
       "        text-align: right;\n",
       "    }\n",
       "</style>\n",
       "<table border=\"1\" class=\"dataframe\">\n",
       "  <thead>\n",
       "    <tr style=\"text-align: right;\">\n",
       "      <th></th>\n",
       "      <th>index</th>\n",
       "      <th>date_block_num</th>\n",
       "      <th>shop_id</th>\n",
       "      <th>item_id</th>\n",
       "    </tr>\n",
       "  </thead>\n",
       "  <tbody>\n",
       "    <tr>\n",
       "      <th>0</th>\n",
       "      <td>0</td>\n",
       "      <td>0</td>\n",
       "      <td>2</td>\n",
       "      <td>27</td>\n",
       "    </tr>\n",
       "    <tr>\n",
       "      <th>1</th>\n",
       "      <td>1</td>\n",
       "      <td>0</td>\n",
       "      <td>2</td>\n",
       "      <td>33</td>\n",
       "    </tr>\n",
       "    <tr>\n",
       "      <th>2</th>\n",
       "      <td>2</td>\n",
       "      <td>0</td>\n",
       "      <td>2</td>\n",
       "      <td>317</td>\n",
       "    </tr>\n",
       "    <tr>\n",
       "      <th>3</th>\n",
       "      <td>3</td>\n",
       "      <td>0</td>\n",
       "      <td>2</td>\n",
       "      <td>438</td>\n",
       "    </tr>\n",
       "    <tr>\n",
       "      <th>4</th>\n",
       "      <td>4</td>\n",
       "      <td>0</td>\n",
       "      <td>2</td>\n",
       "      <td>471</td>\n",
       "    </tr>\n",
       "  </tbody>\n",
       "</table>\n",
       "</div>"
      ],
      "text/plain": [
       "   index  date_block_num  shop_id  item_id\n",
       "0      0               0        2       27\n",
       "1      1               0        2       33\n",
       "2      2               0        2      317\n",
       "3      3               0        2      438\n",
       "4      4               0        2      471"
      ]
     },
     "execution_count": 24,
     "metadata": {},
     "output_type": "execute_result"
    }
   ],
   "source": [
    "df.head(5)"
   ]
  },
  {
   "cell_type": "code",
   "execution_count": 25,
   "id": "fatty-conditioning",
   "metadata": {
    "execution": {
     "iopub.execute_input": "2021-04-28T08:40:55.408683Z",
     "iopub.status.busy": "2021-04-28T08:40:55.407972Z",
     "iopub.status.idle": "2021-04-28T08:40:55.412369Z",
     "shell.execute_reply": "2021-04-28T08:40:55.411734Z"
    },
    "papermill": {
     "duration": 0.068479,
     "end_time": "2021-04-28T08:40:55.412525",
     "exception": false,
     "start_time": "2021-04-28T08:40:55.344046",
     "status": "completed"
    },
    "tags": []
   },
   "outputs": [],
   "source": [
    "del df['index']"
   ]
  },
  {
   "cell_type": "code",
   "execution_count": 26,
   "id": "cloudy-offer",
   "metadata": {
    "execution": {
     "iopub.execute_input": "2021-04-28T08:40:55.533460Z",
     "iopub.status.busy": "2021-04-28T08:40:55.532697Z",
     "iopub.status.idle": "2021-04-28T08:40:55.583126Z",
     "shell.execute_reply": "2021-04-28T08:40:55.583643Z"
    },
    "papermill": {
     "duration": 0.11306,
     "end_time": "2021-04-28T08:40:55.583835",
     "exception": false,
     "start_time": "2021-04-28T08:40:55.470775",
     "status": "completed"
    },
    "tags": []
   },
   "outputs": [
    {
     "data": {
      "text/plain": [
       "date_block_num    8857038\n",
       "shop_id           8857038\n",
       "item_id           8857038\n",
       "dtype: int64"
      ]
     },
     "execution_count": 26,
     "metadata": {},
     "output_type": "execute_result"
    }
   ],
   "source": [
    "df.count()"
   ]
  },
  {
   "cell_type": "code",
   "execution_count": 27,
   "id": "planned-local",
   "metadata": {
    "execution": {
     "iopub.execute_input": "2021-04-28T08:40:55.709266Z",
     "iopub.status.busy": "2021-04-28T08:40:55.708549Z",
     "iopub.status.idle": "2021-04-28T08:41:03.203837Z",
     "shell.execute_reply": "2021-04-28T08:41:03.203294Z"
    },
    "papermill": {
     "duration": 7.561134,
     "end_time": "2021-04-28T08:41:03.204010",
     "exception": false,
     "start_time": "2021-04-28T08:40:55.642876",
     "status": "completed"
    },
    "tags": []
   },
   "outputs": [
    {
     "data": {
      "text/html": [
       "<div>\n",
       "<style scoped>\n",
       "    .dataframe tbody tr th:only-of-type {\n",
       "        vertical-align: middle;\n",
       "    }\n",
       "\n",
       "    .dataframe tbody tr th {\n",
       "        vertical-align: top;\n",
       "    }\n",
       "\n",
       "    .dataframe thead th {\n",
       "        text-align: right;\n",
       "    }\n",
       "</style>\n",
       "<table border=\"1\" class=\"dataframe\">\n",
       "  <thead>\n",
       "    <tr style=\"text-align: right;\">\n",
       "      <th></th>\n",
       "      <th>date_block_num</th>\n",
       "      <th>shop_id</th>\n",
       "      <th>item_id</th>\n",
       "      <th>item_cnt</th>\n",
       "      <th>revenue</th>\n",
       "      <th>first_day_of_sale</th>\n",
       "      <th>item_category_id</th>\n",
       "      <th>item_name_first4</th>\n",
       "      <th>item_name_first6</th>\n",
       "      <th>item_name_first11</th>\n",
       "      <th>group_id</th>\n",
       "      <th>month</th>\n",
       "      <th>year</th>\n",
       "      <th>day_qual</th>\n",
       "      <th>first_day_of_month</th>\n",
       "    </tr>\n",
       "  </thead>\n",
       "  <tbody>\n",
       "    <tr>\n",
       "      <th>0</th>\n",
       "      <td>0</td>\n",
       "      <td>2</td>\n",
       "      <td>27</td>\n",
       "      <td>1.0</td>\n",
       "      <td>2499.0</td>\n",
       "      <td>2.0</td>\n",
       "      <td>19</td>\n",
       "      <td>1</td>\n",
       "      <td>1</td>\n",
       "      <td>1</td>\n",
       "      <td>5</td>\n",
       "      <td>1</td>\n",
       "      <td>0</td>\n",
       "      <td>4.381749</td>\n",
       "      <td>1</td>\n",
       "    </tr>\n",
       "    <tr>\n",
       "      <th>1</th>\n",
       "      <td>0</td>\n",
       "      <td>2</td>\n",
       "      <td>33</td>\n",
       "      <td>1.0</td>\n",
       "      <td>499.0</td>\n",
       "      <td>2.0</td>\n",
       "      <td>37</td>\n",
       "      <td>187</td>\n",
       "      <td>249</td>\n",
       "      <td>414</td>\n",
       "      <td>11</td>\n",
       "      <td>1</td>\n",
       "      <td>0</td>\n",
       "      <td>4.381749</td>\n",
       "      <td>1</td>\n",
       "    </tr>\n",
       "    <tr>\n",
       "      <th>2</th>\n",
       "      <td>0</td>\n",
       "      <td>2</td>\n",
       "      <td>317</td>\n",
       "      <td>1.0</td>\n",
       "      <td>299.0</td>\n",
       "      <td>4.0</td>\n",
       "      <td>45</td>\n",
       "      <td>33</td>\n",
       "      <td>38</td>\n",
       "      <td>52</td>\n",
       "      <td>12</td>\n",
       "      <td>1</td>\n",
       "      <td>0</td>\n",
       "      <td>4.381749</td>\n",
       "      <td>1</td>\n",
       "    </tr>\n",
       "    <tr>\n",
       "      <th>3</th>\n",
       "      <td>0</td>\n",
       "      <td>2</td>\n",
       "      <td>438</td>\n",
       "      <td>1.0</td>\n",
       "      <td>299.0</td>\n",
       "      <td>19.0</td>\n",
       "      <td>45</td>\n",
       "      <td>33</td>\n",
       "      <td>38</td>\n",
       "      <td>54</td>\n",
       "      <td>12</td>\n",
       "      <td>1</td>\n",
       "      <td>0</td>\n",
       "      <td>4.381749</td>\n",
       "      <td>1</td>\n",
       "    </tr>\n",
       "    <tr>\n",
       "      <th>4</th>\n",
       "      <td>0</td>\n",
       "      <td>2</td>\n",
       "      <td>471</td>\n",
       "      <td>2.0</td>\n",
       "      <td>798.0</td>\n",
       "      <td>3.0</td>\n",
       "      <td>49</td>\n",
       "      <td>35</td>\n",
       "      <td>43</td>\n",
       "      <td>59</td>\n",
       "      <td>12</td>\n",
       "      <td>1</td>\n",
       "      <td>0</td>\n",
       "      <td>4.381749</td>\n",
       "      <td>1</td>\n",
       "    </tr>\n",
       "  </tbody>\n",
       "</table>\n",
       "</div>"
      ],
      "text/plain": [
       "   date_block_num  shop_id  item_id  item_cnt  revenue  first_day_of_sale  \\\n",
       "0               0        2       27       1.0   2499.0                2.0   \n",
       "1               0        2       33       1.0    499.0                2.0   \n",
       "2               0        2      317       1.0    299.0                4.0   \n",
       "3               0        2      438       1.0    299.0               19.0   \n",
       "4               0        2      471       2.0    798.0                3.0   \n",
       "\n",
       "   item_category_id  item_name_first4  item_name_first6  item_name_first11  \\\n",
       "0                19                 1                 1                  1   \n",
       "1                37               187               249                414   \n",
       "2                45                33                38                 52   \n",
       "3                45                33                38                 54   \n",
       "4                49                35                43                 59   \n",
       "\n",
       "   group_id  month  year  day_qual  first_day_of_month  \n",
       "0         5      1     0  4.381749                   1  \n",
       "1        11      1     0  4.381749                   1  \n",
       "2        12      1     0  4.381749                   1  \n",
       "3        12      1     0  4.381749                   1  \n",
       "4        12      1     0  4.381749                   1  "
      ]
     },
     "execution_count": 27,
     "metadata": {},
     "output_type": "execute_result"
    }
   ],
   "source": [
    "df=pd.merge(df,train,on=['date_block_num','shop_id','item_id'],how='left').fillna(0)\n",
    "df=pd.merge(df,items.drop(columns=['item_name','item_category_name','group']),on='item_id',how='left')\n",
    "df=pd.merge(df,dates,on=['date_block_num','shop_id'],how='left')\n",
    "\n",
    "df.head(5)"
   ]
  },
  {
   "cell_type": "code",
   "execution_count": 28,
   "id": "alternate-parks",
   "metadata": {
    "execution": {
     "iopub.execute_input": "2021-04-28T08:41:03.327821Z",
     "iopub.status.busy": "2021-04-28T08:41:03.327106Z",
     "iopub.status.idle": "2021-04-28T08:41:03.350604Z",
     "shell.execute_reply": "2021-04-28T08:41:03.351223Z"
    },
    "papermill": {
     "duration": 0.088495,
     "end_time": "2021-04-28T08:41:03.351462",
     "exception": false,
     "start_time": "2021-04-28T08:41:03.262967",
     "status": "completed"
    },
    "tags": []
   },
   "outputs": [
    {
     "data": {
      "text/html": [
       "<div>\n",
       "<style scoped>\n",
       "    .dataframe tbody tr th:only-of-type {\n",
       "        vertical-align: middle;\n",
       "    }\n",
       "\n",
       "    .dataframe tbody tr th {\n",
       "        vertical-align: top;\n",
       "    }\n",
       "\n",
       "    .dataframe thead th {\n",
       "        text-align: right;\n",
       "    }\n",
       "</style>\n",
       "<table border=\"1\" class=\"dataframe\">\n",
       "  <thead>\n",
       "    <tr style=\"text-align: right;\">\n",
       "      <th></th>\n",
       "      <th>shop_name</th>\n",
       "      <th>shop_id</th>\n",
       "    </tr>\n",
       "  </thead>\n",
       "  <tbody>\n",
       "    <tr>\n",
       "      <th>0</th>\n",
       "      <td>!Якутск Орджоникидзе, 56 фран</td>\n",
       "      <td>0</td>\n",
       "    </tr>\n",
       "    <tr>\n",
       "      <th>1</th>\n",
       "      <td>!Якутск ТЦ \"Центральный\" фран</td>\n",
       "      <td>1</td>\n",
       "    </tr>\n",
       "    <tr>\n",
       "      <th>2</th>\n",
       "      <td>Адыгея ТЦ \"Мега\"</td>\n",
       "      <td>2</td>\n",
       "    </tr>\n",
       "    <tr>\n",
       "      <th>3</th>\n",
       "      <td>Балашиха ТРК \"Октябрь-Киномир\"</td>\n",
       "      <td>3</td>\n",
       "    </tr>\n",
       "    <tr>\n",
       "      <th>4</th>\n",
       "      <td>Волжский ТЦ \"Волга Молл\"</td>\n",
       "      <td>4</td>\n",
       "    </tr>\n",
       "    <tr>\n",
       "      <th>5</th>\n",
       "      <td>Вологда ТРЦ \"Мармелад\"</td>\n",
       "      <td>5</td>\n",
       "    </tr>\n",
       "    <tr>\n",
       "      <th>6</th>\n",
       "      <td>Воронеж (Плехановская, 13)</td>\n",
       "      <td>6</td>\n",
       "    </tr>\n",
       "    <tr>\n",
       "      <th>7</th>\n",
       "      <td>Воронеж ТРЦ \"Максимир\"</td>\n",
       "      <td>7</td>\n",
       "    </tr>\n",
       "    <tr>\n",
       "      <th>8</th>\n",
       "      <td>Воронеж ТРЦ Сити-Парк \"Град\"</td>\n",
       "      <td>8</td>\n",
       "    </tr>\n",
       "    <tr>\n",
       "      <th>9</th>\n",
       "      <td>Выездная Торговля</td>\n",
       "      <td>9</td>\n",
       "    </tr>\n",
       "  </tbody>\n",
       "</table>\n",
       "</div>"
      ],
      "text/plain": [
       "                        shop_name  shop_id\n",
       "0   !Якутск Орджоникидзе, 56 фран        0\n",
       "1   !Якутск ТЦ \"Центральный\" фран        1\n",
       "2                Адыгея ТЦ \"Мега\"        2\n",
       "3  Балашиха ТРК \"Октябрь-Киномир\"        3\n",
       "4        Волжский ТЦ \"Волга Молл\"        4\n",
       "5          Вологда ТРЦ \"Мармелад\"        5\n",
       "6      Воронеж (Плехановская, 13)        6\n",
       "7          Воронеж ТРЦ \"Максимир\"        7\n",
       "8    Воронеж ТРЦ Сити-Парк \"Град\"        8\n",
       "9               Выездная Торговля        9"
      ]
     },
     "execution_count": 28,
     "metadata": {},
     "output_type": "execute_result"
    }
   ],
   "source": [
    "shops=pd.read_csv(\"/kaggle/input/competitive-data-science-predict-future-sales/shops.csv\")\n",
    "shops.head(10)"
   ]
  },
  {
   "cell_type": "code",
   "execution_count": 29,
   "id": "nuclear-teaching",
   "metadata": {
    "execution": {
     "iopub.execute_input": "2021-04-28T08:41:03.477113Z",
     "iopub.status.busy": "2021-04-28T08:41:03.476493Z",
     "iopub.status.idle": "2021-04-28T08:41:05.359650Z",
     "shell.execute_reply": "2021-04-28T08:41:05.360338Z"
    },
    "papermill": {
     "duration": 1.946107,
     "end_time": "2021-04-28T08:41:05.360554",
     "exception": false,
     "start_time": "2021-04-28T08:41:03.414447",
     "status": "completed"
    },
    "tags": []
   },
   "outputs": [],
   "source": [
    "from sklearn.cluster import KMeans\n",
    "\n",
    "shops_cats=pd.DataFrame(np.array(list(product(*[df['shop_id'].unique(), df['item_category_id'].unique()]))),\n",
    "    columns =['shop_id', 'item_category_id'])\n",
    "temp=df.groupby(['shop_id', 'item_category_id']).agg({'item_cnt':'sum'}).reset_index()\n",
    "temp1=temp.groupby('shop_id').agg({'item_cnt':'sum'}).rename(columns={'item_cnt':'shop_total'})\n",
    "temp = temp.join(temp1, on='shop_id')\n",
    "temp['item_agg']=temp['item_cnt']/temp['shop_total']\n",
    "temp=temp[['shop_id','item_category_id','item_agg']]\n",
    "\n",
    "shops_cats=pd.merge(shops_cats,temp,on=['shop_id','item_category_id'],how='left').fillna(0)\n",
    "kmeans = KMeans(n_clusters=7, random_state=0).fit(shops_cats)\n",
    "shops_cats['shop_cluster'] = kmeans.labels_.astype('int8')\n",
    "\n",
    "#adding these clusters to the shops dataframe\n",
    "shops = shops.join(shops_cats['shop_cluster'], on='shop_id')\n"
   ]
  },
  {
   "cell_type": "code",
   "execution_count": 30,
   "id": "studied-forestry",
   "metadata": {
    "execution": {
     "iopub.execute_input": "2021-04-28T08:41:05.502427Z",
     "iopub.status.busy": "2021-04-28T08:41:05.501707Z",
     "iopub.status.idle": "2021-04-28T08:41:05.506517Z",
     "shell.execute_reply": "2021-04-28T08:41:05.506023Z"
    },
    "papermill": {
     "duration": 0.082651,
     "end_time": "2021-04-28T08:41:05.506658",
     "exception": false,
     "start_time": "2021-04-28T08:41:05.424007",
     "status": "completed"
    },
    "tags": []
   },
   "outputs": [
    {
     "data": {
      "text/html": [
       "<div>\n",
       "<style scoped>\n",
       "    .dataframe tbody tr th:only-of-type {\n",
       "        vertical-align: middle;\n",
       "    }\n",
       "\n",
       "    .dataframe tbody tr th {\n",
       "        vertical-align: top;\n",
       "    }\n",
       "\n",
       "    .dataframe thead th {\n",
       "        text-align: right;\n",
       "    }\n",
       "</style>\n",
       "<table border=\"1\" class=\"dataframe\">\n",
       "  <thead>\n",
       "    <tr style=\"text-align: right;\">\n",
       "      <th></th>\n",
       "      <th>shop_name</th>\n",
       "      <th>shop_id</th>\n",
       "      <th>shop_cluster</th>\n",
       "      <th>city</th>\n",
       "    </tr>\n",
       "  </thead>\n",
       "  <tbody>\n",
       "    <tr>\n",
       "      <th>0</th>\n",
       "      <td>!якутск орджоникидзе, 56 фран</td>\n",
       "      <td>0</td>\n",
       "      <td>3</td>\n",
       "      <td>0</td>\n",
       "    </tr>\n",
       "    <tr>\n",
       "      <th>1</th>\n",
       "      <td>!якутск тц \"центральный\" фран</td>\n",
       "      <td>1</td>\n",
       "      <td>6</td>\n",
       "      <td>0</td>\n",
       "    </tr>\n",
       "    <tr>\n",
       "      <th>2</th>\n",
       "      <td>адыгея тц \"мега\"</td>\n",
       "      <td>2</td>\n",
       "      <td>6</td>\n",
       "      <td>1</td>\n",
       "    </tr>\n",
       "    <tr>\n",
       "      <th>3</th>\n",
       "      <td>балашиха трк \"октябрь-киномир\"</td>\n",
       "      <td>3</td>\n",
       "      <td>6</td>\n",
       "      <td>2</td>\n",
       "    </tr>\n",
       "    <tr>\n",
       "      <th>4</th>\n",
       "      <td>волжский тц \"волга молл\"</td>\n",
       "      <td>4</td>\n",
       "      <td>0</td>\n",
       "      <td>3</td>\n",
       "    </tr>\n",
       "  </tbody>\n",
       "</table>\n",
       "</div>"
      ],
      "text/plain": [
       "                        shop_name  shop_id  shop_cluster  city\n",
       "0   !якутск орджоникидзе, 56 фран        0             3     0\n",
       "1   !якутск тц \"центральный\" фран        1             6     0\n",
       "2                адыгея тц \"мега\"        2             6     1\n",
       "3  балашиха трк \"октябрь-киномир\"        3             6     2\n",
       "4        волжский тц \"волга молл\"        4             0     3"
      ]
     },
     "execution_count": 30,
     "metadata": {},
     "output_type": "execute_result"
    }
   ],
   "source": [
    "shops.dropna(inplace=True)\n",
    "shops['shop_name']=shops['shop_name'].str.lower()\n",
    "shops['city']=shops['shop_name'].apply(lambda x:x.split()[0])\n",
    "shops['city']=le.fit_transform(shops['city'])\n",
    "shops.head(5)"
   ]
  },
  {
   "cell_type": "code",
   "execution_count": 31,
   "id": "hungry-johnson",
   "metadata": {
    "execution": {
     "iopub.execute_input": "2021-04-28T08:41:05.634540Z",
     "iopub.status.busy": "2021-04-28T08:41:05.633800Z",
     "iopub.status.idle": "2021-04-28T08:41:07.148891Z",
     "shell.execute_reply": "2021-04-28T08:41:07.148325Z"
    },
    "papermill": {
     "duration": 1.582613,
     "end_time": "2021-04-28T08:41:07.149050",
     "exception": false,
     "start_time": "2021-04-28T08:41:05.566437",
     "status": "completed"
    },
    "tags": []
   },
   "outputs": [
    {
     "data": {
      "text/html": [
       "<div>\n",
       "<style scoped>\n",
       "    .dataframe tbody tr th:only-of-type {\n",
       "        vertical-align: middle;\n",
       "    }\n",
       "\n",
       "    .dataframe tbody tr th {\n",
       "        vertical-align: top;\n",
       "    }\n",
       "\n",
       "    .dataframe thead th {\n",
       "        text-align: right;\n",
       "    }\n",
       "</style>\n",
       "<table border=\"1\" class=\"dataframe\">\n",
       "  <thead>\n",
       "    <tr style=\"text-align: right;\">\n",
       "      <th></th>\n",
       "      <th>date_block_num</th>\n",
       "      <th>shop_id</th>\n",
       "      <th>item_id</th>\n",
       "      <th>item_cnt</th>\n",
       "      <th>revenue</th>\n",
       "      <th>first_day_of_sale</th>\n",
       "      <th>item_category_id</th>\n",
       "      <th>item_name_first4</th>\n",
       "      <th>item_name_first6</th>\n",
       "      <th>item_name_first11</th>\n",
       "      <th>group_id</th>\n",
       "      <th>month</th>\n",
       "      <th>year</th>\n",
       "      <th>day_qual</th>\n",
       "      <th>first_day_of_month</th>\n",
       "      <th>shop_cluster</th>\n",
       "      <th>city</th>\n",
       "    </tr>\n",
       "  </thead>\n",
       "  <tbody>\n",
       "    <tr>\n",
       "      <th>0</th>\n",
       "      <td>0</td>\n",
       "      <td>2</td>\n",
       "      <td>27</td>\n",
       "      <td>1.0</td>\n",
       "      <td>2499.0</td>\n",
       "      <td>2.0</td>\n",
       "      <td>19</td>\n",
       "      <td>1</td>\n",
       "      <td>1</td>\n",
       "      <td>1</td>\n",
       "      <td>5</td>\n",
       "      <td>1</td>\n",
       "      <td>0</td>\n",
       "      <td>4.381749</td>\n",
       "      <td>1</td>\n",
       "      <td>6</td>\n",
       "      <td>1</td>\n",
       "    </tr>\n",
       "    <tr>\n",
       "      <th>1</th>\n",
       "      <td>0</td>\n",
       "      <td>2</td>\n",
       "      <td>33</td>\n",
       "      <td>1.0</td>\n",
       "      <td>499.0</td>\n",
       "      <td>2.0</td>\n",
       "      <td>37</td>\n",
       "      <td>187</td>\n",
       "      <td>249</td>\n",
       "      <td>414</td>\n",
       "      <td>11</td>\n",
       "      <td>1</td>\n",
       "      <td>0</td>\n",
       "      <td>4.381749</td>\n",
       "      <td>1</td>\n",
       "      <td>6</td>\n",
       "      <td>1</td>\n",
       "    </tr>\n",
       "    <tr>\n",
       "      <th>2</th>\n",
       "      <td>0</td>\n",
       "      <td>2</td>\n",
       "      <td>317</td>\n",
       "      <td>1.0</td>\n",
       "      <td>299.0</td>\n",
       "      <td>4.0</td>\n",
       "      <td>45</td>\n",
       "      <td>33</td>\n",
       "      <td>38</td>\n",
       "      <td>52</td>\n",
       "      <td>12</td>\n",
       "      <td>1</td>\n",
       "      <td>0</td>\n",
       "      <td>4.381749</td>\n",
       "      <td>1</td>\n",
       "      <td>6</td>\n",
       "      <td>1</td>\n",
       "    </tr>\n",
       "    <tr>\n",
       "      <th>3</th>\n",
       "      <td>0</td>\n",
       "      <td>2</td>\n",
       "      <td>438</td>\n",
       "      <td>1.0</td>\n",
       "      <td>299.0</td>\n",
       "      <td>19.0</td>\n",
       "      <td>45</td>\n",
       "      <td>33</td>\n",
       "      <td>38</td>\n",
       "      <td>54</td>\n",
       "      <td>12</td>\n",
       "      <td>1</td>\n",
       "      <td>0</td>\n",
       "      <td>4.381749</td>\n",
       "      <td>1</td>\n",
       "      <td>6</td>\n",
       "      <td>1</td>\n",
       "    </tr>\n",
       "    <tr>\n",
       "      <th>4</th>\n",
       "      <td>0</td>\n",
       "      <td>2</td>\n",
       "      <td>471</td>\n",
       "      <td>2.0</td>\n",
       "      <td>798.0</td>\n",
       "      <td>3.0</td>\n",
       "      <td>49</td>\n",
       "      <td>35</td>\n",
       "      <td>43</td>\n",
       "      <td>59</td>\n",
       "      <td>12</td>\n",
       "      <td>1</td>\n",
       "      <td>0</td>\n",
       "      <td>4.381749</td>\n",
       "      <td>1</td>\n",
       "      <td>6</td>\n",
       "      <td>1</td>\n",
       "    </tr>\n",
       "  </tbody>\n",
       "</table>\n",
       "</div>"
      ],
      "text/plain": [
       "   date_block_num  shop_id  item_id  item_cnt  revenue  first_day_of_sale  \\\n",
       "0               0        2       27       1.0   2499.0                2.0   \n",
       "1               0        2       33       1.0    499.0                2.0   \n",
       "2               0        2      317       1.0    299.0                4.0   \n",
       "3               0        2      438       1.0    299.0               19.0   \n",
       "4               0        2      471       2.0    798.0                3.0   \n",
       "\n",
       "   item_category_id  item_name_first4  item_name_first6  item_name_first11  \\\n",
       "0                19                 1                 1                  1   \n",
       "1                37               187               249                414   \n",
       "2                45                33                38                 52   \n",
       "3                45                33                38                 54   \n",
       "4                49                35                43                 59   \n",
       "\n",
       "   group_id  month  year  day_qual  first_day_of_month  shop_cluster  city  \n",
       "0         5      1     0  4.381749                   1             6     1  \n",
       "1        11      1     0  4.381749                   1             6     1  \n",
       "2        12      1     0  4.381749                   1             6     1  \n",
       "3        12      1     0  4.381749                   1             6     1  \n",
       "4        12      1     0  4.381749                   1             6     1  "
      ]
     },
     "execution_count": 31,
     "metadata": {},
     "output_type": "execute_result"
    }
   ],
   "source": [
    "df=pd.merge(df,shops.drop(columns='shop_name'), on='shop_id', how='left')\n",
    "df.head(5)"
   ]
  },
  {
   "cell_type": "code",
   "execution_count": 32,
   "id": "fatal-forge",
   "metadata": {
    "execution": {
     "iopub.execute_input": "2021-04-28T08:41:07.279560Z",
     "iopub.status.busy": "2021-04-28T08:41:07.278733Z",
     "iopub.status.idle": "2021-04-28T08:41:07.283149Z",
     "shell.execute_reply": "2021-04-28T08:41:07.282567Z"
    },
    "papermill": {
     "duration": 0.072247,
     "end_time": "2021-04-28T08:41:07.283316",
     "exception": false,
     "start_time": "2021-04-28T08:41:07.211069",
     "status": "completed"
    },
    "tags": []
   },
   "outputs": [
    {
     "data": {
      "text/plain": [
       "<bound method NDFrame._add_numeric_operations.<locals>.max of 0          1.0\n",
       "1          1.0\n",
       "2          1.0\n",
       "3          1.0\n",
       "4          2.0\n",
       "          ... \n",
       "8857033    0.0\n",
       "8857034    0.0\n",
       "8857035    0.0\n",
       "8857036    0.0\n",
       "8857037    0.0\n",
       "Name: item_cnt, Length: 8857038, dtype: float64>"
      ]
     },
     "execution_count": 32,
     "metadata": {},
     "output_type": "execute_result"
    }
   ],
   "source": [
    "df.item_cnt.max"
   ]
  },
  {
   "cell_type": "code",
   "execution_count": 33,
   "id": "stainless-printing",
   "metadata": {
    "execution": {
     "iopub.execute_input": "2021-04-28T08:41:07.410653Z",
     "iopub.status.busy": "2021-04-28T08:41:07.409978Z",
     "iopub.status.idle": "2021-04-28T08:41:07.431072Z",
     "shell.execute_reply": "2021-04-28T08:41:07.431602Z"
    },
    "papermill": {
     "duration": 0.087201,
     "end_time": "2021-04-28T08:41:07.431776",
     "exception": false,
     "start_time": "2021-04-28T08:41:07.344575",
     "status": "completed"
    },
    "tags": []
   },
   "outputs": [
    {
     "data": {
      "text/html": [
       "<div>\n",
       "<style scoped>\n",
       "    .dataframe tbody tr th:only-of-type {\n",
       "        vertical-align: middle;\n",
       "    }\n",
       "\n",
       "    .dataframe tbody tr th {\n",
       "        vertical-align: top;\n",
       "    }\n",
       "\n",
       "    .dataframe thead th {\n",
       "        text-align: right;\n",
       "    }\n",
       "</style>\n",
       "<table border=\"1\" class=\"dataframe\">\n",
       "  <thead>\n",
       "    <tr style=\"text-align: right;\">\n",
       "      <th></th>\n",
       "      <th>date_block_num</th>\n",
       "      <th>shop_id</th>\n",
       "      <th>item_id</th>\n",
       "      <th>item_cnt</th>\n",
       "      <th>revenue</th>\n",
       "      <th>first_day_of_sale</th>\n",
       "      <th>item_category_id</th>\n",
       "      <th>item_name_first4</th>\n",
       "      <th>item_name_first6</th>\n",
       "      <th>item_name_first11</th>\n",
       "      <th>group_id</th>\n",
       "      <th>month</th>\n",
       "      <th>year</th>\n",
       "      <th>day_qual</th>\n",
       "      <th>first_day_of_month</th>\n",
       "      <th>shop_cluster</th>\n",
       "      <th>city</th>\n",
       "    </tr>\n",
       "  </thead>\n",
       "  <tbody>\n",
       "    <tr>\n",
       "      <th>0</th>\n",
       "      <td>0</td>\n",
       "      <td>2</td>\n",
       "      <td>27</td>\n",
       "      <td>1.0</td>\n",
       "      <td>2499.0</td>\n",
       "      <td>2.0</td>\n",
       "      <td>19</td>\n",
       "      <td>1</td>\n",
       "      <td>1</td>\n",
       "      <td>1</td>\n",
       "      <td>5</td>\n",
       "      <td>1</td>\n",
       "      <td>0</td>\n",
       "      <td>4.381749</td>\n",
       "      <td>1</td>\n",
       "      <td>6</td>\n",
       "      <td>1</td>\n",
       "    </tr>\n",
       "    <tr>\n",
       "      <th>1</th>\n",
       "      <td>0</td>\n",
       "      <td>2</td>\n",
       "      <td>33</td>\n",
       "      <td>1.0</td>\n",
       "      <td>499.0</td>\n",
       "      <td>2.0</td>\n",
       "      <td>37</td>\n",
       "      <td>187</td>\n",
       "      <td>249</td>\n",
       "      <td>414</td>\n",
       "      <td>11</td>\n",
       "      <td>1</td>\n",
       "      <td>0</td>\n",
       "      <td>4.381749</td>\n",
       "      <td>1</td>\n",
       "      <td>6</td>\n",
       "      <td>1</td>\n",
       "    </tr>\n",
       "    <tr>\n",
       "      <th>2</th>\n",
       "      <td>0</td>\n",
       "      <td>2</td>\n",
       "      <td>317</td>\n",
       "      <td>1.0</td>\n",
       "      <td>299.0</td>\n",
       "      <td>4.0</td>\n",
       "      <td>45</td>\n",
       "      <td>33</td>\n",
       "      <td>38</td>\n",
       "      <td>52</td>\n",
       "      <td>12</td>\n",
       "      <td>1</td>\n",
       "      <td>0</td>\n",
       "      <td>4.381749</td>\n",
       "      <td>1</td>\n",
       "      <td>6</td>\n",
       "      <td>1</td>\n",
       "    </tr>\n",
       "    <tr>\n",
       "      <th>3</th>\n",
       "      <td>0</td>\n",
       "      <td>2</td>\n",
       "      <td>438</td>\n",
       "      <td>1.0</td>\n",
       "      <td>299.0</td>\n",
       "      <td>19.0</td>\n",
       "      <td>45</td>\n",
       "      <td>33</td>\n",
       "      <td>38</td>\n",
       "      <td>54</td>\n",
       "      <td>12</td>\n",
       "      <td>1</td>\n",
       "      <td>0</td>\n",
       "      <td>4.381749</td>\n",
       "      <td>1</td>\n",
       "      <td>6</td>\n",
       "      <td>1</td>\n",
       "    </tr>\n",
       "    <tr>\n",
       "      <th>4</th>\n",
       "      <td>0</td>\n",
       "      <td>2</td>\n",
       "      <td>471</td>\n",
       "      <td>2.0</td>\n",
       "      <td>798.0</td>\n",
       "      <td>3.0</td>\n",
       "      <td>49</td>\n",
       "      <td>35</td>\n",
       "      <td>43</td>\n",
       "      <td>59</td>\n",
       "      <td>12</td>\n",
       "      <td>1</td>\n",
       "      <td>0</td>\n",
       "      <td>4.381749</td>\n",
       "      <td>1</td>\n",
       "      <td>6</td>\n",
       "      <td>1</td>\n",
       "    </tr>\n",
       "  </tbody>\n",
       "</table>\n",
       "</div>"
      ],
      "text/plain": [
       "   date_block_num  shop_id  item_id  item_cnt  revenue  first_day_of_sale  \\\n",
       "0               0        2       27       1.0   2499.0                2.0   \n",
       "1               0        2       33       1.0    499.0                2.0   \n",
       "2               0        2      317       1.0    299.0                4.0   \n",
       "3               0        2      438       1.0    299.0               19.0   \n",
       "4               0        2      471       2.0    798.0                3.0   \n",
       "\n",
       "   item_category_id  item_name_first4  item_name_first6  item_name_first11  \\\n",
       "0                19                 1                 1                  1   \n",
       "1                37               187               249                414   \n",
       "2                45                33                38                 52   \n",
       "3                45                33                38                 54   \n",
       "4                49                35                43                 59   \n",
       "\n",
       "   group_id  month  year  day_qual  first_day_of_month  shop_cluster  city  \n",
       "0         5      1     0  4.381749                   1             6     1  \n",
       "1        11      1     0  4.381749                   1             6     1  \n",
       "2        12      1     0  4.381749                   1             6     1  \n",
       "3        12      1     0  4.381749                   1             6     1  \n",
       "4        12      1     0  4.381749                   1             6     1  "
      ]
     },
     "execution_count": 33,
     "metadata": {},
     "output_type": "execute_result"
    }
   ],
   "source": [
    "del train, categories, shops, shops_cats, temp, temp1, \n",
    "df.head()"
   ]
  },
  {
   "cell_type": "code",
   "execution_count": 34,
   "id": "senior-conclusion",
   "metadata": {
    "execution": {
     "iopub.execute_input": "2021-04-28T08:41:07.561656Z",
     "iopub.status.busy": "2021-04-28T08:41:07.560948Z",
     "iopub.status.idle": "2021-04-28T08:41:07.693552Z",
     "shell.execute_reply": "2021-04-28T08:41:07.694111Z"
    },
    "papermill": {
     "duration": 0.200485,
     "end_time": "2021-04-28T08:41:07.694297",
     "exception": false,
     "start_time": "2021-04-28T08:41:07.493812",
     "status": "completed"
    },
    "tags": []
   },
   "outputs": [],
   "source": [
    "df['item_cnt_unclipped'] = df['item_cnt']\n",
    "df['item_cnt'] = df['item_cnt'].clip(0, 20)"
   ]
  },
  {
   "cell_type": "code",
   "execution_count": 35,
   "id": "unlikely-spanking",
   "metadata": {
    "execution": {
     "iopub.execute_input": "2021-04-28T08:41:07.824775Z",
     "iopub.status.busy": "2021-04-28T08:41:07.823779Z",
     "iopub.status.idle": "2021-04-28T08:41:11.925899Z",
     "shell.execute_reply": "2021-04-28T08:41:11.925343Z"
    },
    "papermill": {
     "duration": 4.168339,
     "end_time": "2021-04-28T08:41:11.926053",
     "exception": false,
     "start_time": "2021-04-28T08:41:07.757714",
     "status": "completed"
    },
    "tags": []
   },
   "outputs": [],
   "source": [
    "def downcast(df):\n",
    "    float_cols = [c for c in df if df[c].dtype in [\"float64\"]]\n",
    "    int_cols=[c for c in df if df[c].dtype in ['int64']]\n",
    "    df[float_cols] = df[float_cols].astype('float32')\n",
    "    df[int_cols] = df[int_cols].astype('int16')\n",
    "    return df\n",
    "df = downcast(df)\n",
    "\n"
   ]
  },
  {
   "cell_type": "code",
   "execution_count": 36,
   "id": "voluntary-pointer",
   "metadata": {
    "execution": {
     "iopub.execute_input": "2021-04-28T08:41:12.070050Z",
     "iopub.status.busy": "2021-04-28T08:41:12.069352Z",
     "iopub.status.idle": "2021-04-28T08:41:13.893216Z",
     "shell.execute_reply": "2021-04-28T08:41:13.892554Z"
    },
    "papermill": {
     "duration": 1.904621,
     "end_time": "2021-04-28T08:41:13.893375",
     "exception": false,
     "start_time": "2021-04-28T08:41:11.988754",
     "status": "completed"
    },
    "tags": []
   },
   "outputs": [],
   "source": [
    "df['item_age']=(df['date_block_num']-df.groupby('item_id')['date_block_num'].transform('min')).astype('int8')\n",
    "df['item_name_first4_age'] = (df['date_block_num'] - df.groupby('item_name_first4')['date_block_num'].transform('min')).astype('int8')\n",
    "df['item_name_first6_age'] = (df['date_block_num'] - df.groupby('item_name_first6')['date_block_num'].transform('min')).astype('int8')\n",
    "df['item_name_first11_age'] = (df['date_block_num'] - df.groupby('item_name_first11')['date_block_num'].transform('min')).astype('int8')\n",
    "df['category_age'] = (df['date_block_num'] - df.groupby('item_category_id')['date_block_num'].transform('min')).astype('int8')\n",
    "df['group_age'] = (df['date_block_num'] - df.groupby('group_id')['date_block_num'].transform('min')).astype('int8')\n",
    "df['shop_age'] = (df['date_block_num'] - df.groupby('shop_id')['date_block_num'].transform('min')).astype('int8')"
   ]
  },
  {
   "cell_type": "code",
   "execution_count": 37,
   "id": "invalid-regard",
   "metadata": {
    "execution": {
     "iopub.execute_input": "2021-04-28T08:41:14.027472Z",
     "iopub.status.busy": "2021-04-28T08:41:14.026610Z",
     "iopub.status.idle": "2021-04-28T08:41:18.251272Z",
     "shell.execute_reply": "2021-04-28T08:41:18.250072Z"
    },
    "papermill": {
     "duration": 4.29539,
     "end_time": "2021-04-28T08:41:18.251459",
     "exception": false,
     "start_time": "2021-04-28T08:41:13.956069",
     "status": "completed"
    },
    "tags": []
   },
   "outputs": [],
   "source": [
    "temp=df.query('item_cnt>0').groupby(['item_id','shop_id']).agg({'date_block_num':'min'}).reset_index()\n",
    "temp.columns=['item_id','shop_id','item_shop_first_sale']\n",
    "df = pd.merge(df, temp, on=['item_id','shop_id'], how='left')\n",
    "#item age that stays at 0 if a shop hasn't sold the item\n",
    "df['item_age_if_shop_sale'] = (df['date_block_num'] > df['item_shop_first_sale']) * df['item_age']\n",
    "#the length of time an item has been for sale without being sold at individual shops\n",
    "df['item_age_without_shop_sale'] = (df['date_block_num'] <= df['item_shop_first_sale']) * df['item_age']\n",
    "del df['item_shop_first_sale']"
   ]
  },
  {
   "cell_type": "code",
   "execution_count": 38,
   "id": "popular-apparatus",
   "metadata": {
    "execution": {
     "iopub.execute_input": "2021-04-28T08:41:18.385093Z",
     "iopub.status.busy": "2021-04-28T08:41:18.384393Z",
     "iopub.status.idle": "2021-04-28T08:41:18.387617Z",
     "shell.execute_reply": "2021-04-28T08:41:18.388101Z"
    },
    "papermill": {
     "duration": 0.072613,
     "end_time": "2021-04-28T08:41:18.388286",
     "exception": false,
     "start_time": "2021-04-28T08:41:18.315673",
     "status": "completed"
    },
    "tags": []
   },
   "outputs": [],
   "source": [
    "def agg_cnt_col(df, merging_cols, new_col,aggregation):\n",
    "    temp = df.groupby(merging_cols).agg(aggregation).reset_index()\n",
    "    temp.columns = merging_cols + [new_col]\n",
    "    df = pd.merge(df, temp, on=merging_cols, how='left')\n",
    "    return df"
   ]
  },
  {
   "cell_type": "code",
   "execution_count": 39,
   "id": "removable-april",
   "metadata": {
    "execution": {
     "iopub.execute_input": "2021-04-28T08:41:18.517933Z",
     "iopub.status.busy": "2021-04-28T08:41:18.516731Z",
     "iopub.status.idle": "2021-04-28T08:41:44.485191Z",
     "shell.execute_reply": "2021-04-28T08:41:44.484570Z"
    },
    "papermill": {
     "duration": 26.034533,
     "end_time": "2021-04-28T08:41:44.485340",
     "exception": false,
     "start_time": "2021-04-28T08:41:18.450807",
     "status": "completed"
    },
    "tags": []
   },
   "outputs": [],
   "source": [
    "df = agg_cnt_col(df, ['date_block_num','item_id'],'item_cnt_all_shops',{'item_cnt':'mean'})\n",
    "df = agg_cnt_col(df, ['date_block_num','item_category_id','shop_id'],'item_cnt_all_shops_median',{'item_cnt':'median'}) \n",
    "#all items in category at individual shops\n",
    "df = agg_cnt_col(df, ['date_block_num','item_category_id','shop_id'],'category_cnt',{'item_cnt':'mean'})\n",
    "df = agg_cnt_col(df, ['date_block_num','item_category_id','shop_id'],'category_cnt_median',{'item_cnt':'median'}) \n",
    "#all items in category across all shops\n",
    "df = agg_cnt_col(df, ['date_block_num','item_category_id'],'category_cnt_all_shops',{'item_cnt':'mean'})\n",
    "df = agg_cnt_col(df, ['date_block_num','item_category_id'],'category_cnt_all_shops_median',{'item_cnt':'median'})\n",
    "#all items in group\n",
    "df = agg_cnt_col(df, ['date_block_num','group_id','shop_id'],'group_cnt',{'item_cnt':'mean'})\n",
    "\n",
    "df = agg_cnt_col(df, ['date_block_num','group_id'],'group_cnt_all_shops',{'item_cnt':'mean'})\n",
    "\n",
    "df = agg_cnt_col(df, ['date_block_num','shop_id'],'shop_cnt',{'item_cnt':'mean'})\n",
    "\n",
    "df = agg_cnt_col(df, ['date_block_num','city'],'city_cnt',{'item_cnt':'mean'})\n"
   ]
  },
  {
   "cell_type": "code",
   "execution_count": 40,
   "id": "tutorial-technical",
   "metadata": {
    "execution": {
     "iopub.execute_input": "2021-04-28T08:41:44.615768Z",
     "iopub.status.busy": "2021-04-28T08:41:44.614802Z",
     "iopub.status.idle": "2021-04-28T08:41:54.022643Z",
     "shell.execute_reply": "2021-04-28T08:41:54.021781Z"
    },
    "papermill": {
     "duration": 9.474321,
     "end_time": "2021-04-28T08:41:54.022802",
     "exception": false,
     "start_time": "2021-04-28T08:41:44.548481",
     "status": "completed"
    },
    "tags": []
   },
   "outputs": [],
   "source": [
    "def new_items_sale(df,merging_col,new_col):\n",
    "    temp=df.query('item_age==0').groupby(merging_col)['item_cnt'].mean().reset_index().rename(columns={'item_cnt': new_col})\n",
    "    \n",
    "    df=pd.merge(df,temp,on=merging_col, how='left')\n",
    "    return df\n",
    "\n",
    "#mean units sold of new item in category at individual shop\n",
    "df = new_items_sale(df, ['date_block_num','item_category_id','shop_id'], 'new_items_in_cat')\n",
    "#mean units sold of new item in category across all shops\n",
    "df = new_items_sale(df, ['date_block_num','item_category_id'], 'new_items_in_cat_all_shops')"
   ]
  },
  {
   "cell_type": "code",
   "execution_count": 41,
   "id": "strange-buying",
   "metadata": {
    "execution": {
     "iopub.execute_input": "2021-04-28T08:41:54.165429Z",
     "iopub.status.busy": "2021-04-28T08:41:54.164013Z",
     "iopub.status.idle": "2021-04-28T08:42:01.676028Z",
     "shell.execute_reply": "2021-04-28T08:42:01.675184Z"
    },
    "papermill": {
     "duration": 7.58521,
     "end_time": "2021-04-28T08:42:01.676207",
     "exception": false,
     "start_time": "2021-04-28T08:41:54.090997",
     "status": "completed"
    },
    "tags": []
   },
   "outputs": [],
   "source": [
    "def agg_price_col(df, merging_cols, new_col):\n",
    "    temp = df.groupby(merging_cols).agg({'revenue':'sum','item_cnt_unclipped':'sum'}).reset_index()\n",
    "    temp[new_col] = temp['revenue']/temp['item_cnt_unclipped']\n",
    "    temp = temp[merging_cols + [new_col]]\n",
    "    df = pd.merge(df, temp, on=merging_cols, how='left')\n",
    "    return df\n",
    "\n",
    "#average item price\n",
    "df = agg_price_col(df,['date_block_num','item_id'],'item_price')\n",
    "#average price of items in category\n",
    "df = agg_price_col(df,['date_block_num','item_category_id'],'category_price')\n",
    "#average price of all items\n",
    "df = agg_price_col(df,['date_block_num'],'block_price')"
   ]
  },
  {
   "cell_type": "code",
   "execution_count": 42,
   "id": "informational-health",
   "metadata": {
    "execution": {
     "iopub.execute_input": "2021-04-28T08:42:01.813168Z",
     "iopub.status.busy": "2021-04-28T08:42:01.812383Z",
     "iopub.status.idle": "2021-04-28T08:42:02.558030Z",
     "shell.execute_reply": "2021-04-28T08:42:02.557267Z"
    },
    "papermill": {
     "duration": 0.818212,
     "end_time": "2021-04-28T08:42:02.558198",
     "exception": false,
     "start_time": "2021-04-28T08:42:01.739986",
     "status": "completed"
    },
    "tags": []
   },
   "outputs": [],
   "source": [
    "df = downcast(df)"
   ]
  },
  {
   "cell_type": "markdown",
   "id": "surprised-madrid",
   "metadata": {
    "papermill": {
     "duration": 0.063242,
     "end_time": "2021-04-28T08:42:02.684780",
     "exception": false,
     "start_time": "2021-04-28T08:42:02.621538",
     "status": "completed"
    },
    "tags": []
   },
   "source": [
    "**LAG FEATURES -'I have no idea how?'**"
   ]
  },
  {
   "cell_type": "code",
   "execution_count": 43,
   "id": "automotive-gentleman",
   "metadata": {
    "execution": {
     "iopub.execute_input": "2021-04-28T08:42:02.819559Z",
     "iopub.status.busy": "2021-04-28T08:42:02.818822Z",
     "iopub.status.idle": "2021-04-28T08:42:02.822928Z",
     "shell.execute_reply": "2021-04-28T08:42:02.822296Z"
    },
    "papermill": {
     "duration": 0.075109,
     "end_time": "2021-04-28T08:42:02.823087",
     "exception": false,
     "start_time": "2021-04-28T08:42:02.747978",
     "status": "completed"
    },
    "tags": []
   },
   "outputs": [],
   "source": [
    "def lag_feature(df, lag, col, merge_cols):        \n",
    "    temp = df[merge_cols + [col]]\n",
    "    temp = temp.groupby(merge_cols).agg({f'{col}':'first'}).reset_index()\n",
    "    temp.columns = merge_cols + [f'{col}_lag{lag}']\n",
    "    temp['date_block_num'] += lag\n",
    "    df = pd.merge(df, temp, on=merge_cols, how='left')\n",
    "    df[f'{col}_lag{lag}'] = df[f'{col}_lag{lag}'].fillna(0).astype('float32')\n",
    "    return df"
   ]
  },
  {
   "cell_type": "code",
   "execution_count": 44,
   "id": "featured-price",
   "metadata": {
    "execution": {
     "iopub.execute_input": "2021-04-28T08:42:03.000790Z",
     "iopub.status.busy": "2021-04-28T08:42:02.999783Z",
     "iopub.status.idle": "2021-04-28T08:58:09.688478Z",
     "shell.execute_reply": "2021-04-28T08:58:09.687383Z"
    },
    "papermill": {
     "duration": 966.789201,
     "end_time": "2021-04-28T08:58:09.688756",
     "exception": false,
     "start_time": "2021-04-28T08:42:02.899555",
     "status": "completed"
    },
    "tags": []
   },
   "outputs": [],
   "source": [
    "lag12_cols = {\n",
    "    'item_cnt':['date_block_num', 'shop_id', 'item_id'],\n",
    "    'item_cnt_all_shops':['date_block_num', 'item_id'],\n",
    "    'category_cnt':['date_block_num', 'shop_id', 'item_category_id'],\n",
    "    'category_cnt_all_shops':['date_block_num', 'item_category_id'],\n",
    "    'group_cnt':['date_block_num', 'shop_id', 'group_id'],\n",
    "    'group_cnt_all_shops':['date_block_num', 'group_id'],\n",
    "    'shop_cnt':['date_block_num', 'shop_id'],\n",
    "    'city_cnt':['date_block_num', 'city'],\n",
    "    'new_items_in_cat':['date_block_num', 'shop_id', 'item_category_id'],\n",
    "    'new_items_in_cat_all_shops':['date_block_num', 'item_category_id']\n",
    "}\n",
    "for col,merge_cols in lag12_cols.items():\n",
    "    df[f'{col}_lag1to12'] = 0\n",
    "    for i in range(1,13):\n",
    "        df = lag_feature(df, i, col, merge_cols)\n",
    "        df[f'{col}_lag1to12'] += df[f'{col}_lag{i}']\n",
    "        if i > 2:\n",
    "            del df[f'{col}_lag{i}']\n",
    "    if col == 'item_cnt':\n",
    "        del df[f'{col}_lag1']\n",
    "        del df[f'{col}_lag2']        \n",
    "    else:\n",
    "        del df[col]"
   ]
  },
  {
   "cell_type": "code",
   "execution_count": 45,
   "id": "ideal-withdrawal",
   "metadata": {
    "execution": {
     "iopub.execute_input": "2021-04-28T08:58:09.828224Z",
     "iopub.status.busy": "2021-04-28T08:58:09.827435Z",
     "iopub.status.idle": "2021-04-28T08:59:18.883997Z",
     "shell.execute_reply": "2021-04-28T08:59:18.883270Z"
    },
    "papermill": {
     "duration": 69.128047,
     "end_time": "2021-04-28T08:59:18.884196",
     "exception": false,
     "start_time": "2021-04-28T08:58:09.756149",
     "status": "completed"
    },
    "tags": []
   },
   "outputs": [],
   "source": [
    "lag2_cols = {\n",
    "    'item_cnt_unclipped':['date_block_num', 'shop_id', 'item_id'],\n",
    "    'item_cnt_all_shops_median':['date_block_num', 'item_id'],\n",
    "    'category_cnt_median':['date_block_num', 'shop_id', 'item_category_id'],\n",
    "    'category_cnt_all_shops_median':['date_block_num', 'item_category_id']\n",
    "}\n",
    "for col in lag2_cols:\n",
    "    df = lag_feature(df, 1, col, merge_cols) \n",
    "    df = lag_feature(df, 2, col, merge_cols)\n",
    "    if col!='item_cnt_unclipped':\n",
    "        del df[col]"
   ]
  },
  {
   "cell_type": "code",
   "execution_count": 46,
   "id": "african-frequency",
   "metadata": {
    "execution": {
     "iopub.execute_input": "2021-04-28T08:59:19.022094Z",
     "iopub.status.busy": "2021-04-28T08:59:19.021374Z",
     "iopub.status.idle": "2021-04-28T08:59:19.136059Z",
     "shell.execute_reply": "2021-04-28T08:59:19.135376Z"
    },
    "papermill": {
     "duration": 0.185231,
     "end_time": "2021-04-28T08:59:19.136206",
     "exception": false,
     "start_time": "2021-04-28T08:59:18.950975",
     "status": "completed"
    },
    "tags": []
   },
   "outputs": [],
   "source": [
    "df['item_cnt_diff'] = df['item_cnt_unclipped_lag1']/df['item_cnt_lag1to12']\n",
    "df['item_cnt_all_shops_diff'] = df['item_cnt_all_shops_lag1']/df['item_cnt_all_shops_lag1to12']\n",
    "df['category_cnt_diff'] = df['category_cnt_lag1']/df['category_cnt_lag1to12']\n",
    "df['category_cnt_all_shops_diff'] = df['category_cnt_all_shops_lag1']/df['category_cnt_all_shops_lag1to12']"
   ]
  },
  {
   "cell_type": "code",
   "execution_count": 47,
   "id": "protecting-ethiopia",
   "metadata": {
    "execution": {
     "iopub.execute_input": "2021-04-28T08:59:19.272829Z",
     "iopub.status.busy": "2021-04-28T08:59:19.272085Z",
     "iopub.status.idle": "2021-04-28T08:59:38.005118Z",
     "shell.execute_reply": "2021-04-28T08:59:38.004382Z"
    },
    "papermill": {
     "duration": 18.803581,
     "end_time": "2021-04-28T08:59:38.005410",
     "exception": false,
     "start_time": "2021-04-28T08:59:19.201829",
     "status": "completed"
    },
    "tags": []
   },
   "outputs": [],
   "source": [
    "df = lag_feature(df, 1, 'category_price',['date_block_num', 'item_category_id'])\n",
    "df = lag_feature(df, 1, 'block_price',['date_block_num'])\n",
    "del df['category_price'], df['block_price']"
   ]
  },
  {
   "cell_type": "code",
   "execution_count": 48,
   "id": "protective-parent",
   "metadata": {
    "execution": {
     "iopub.execute_input": "2021-04-28T08:59:38.142911Z",
     "iopub.status.busy": "2021-04-28T08:59:38.141993Z",
     "iopub.status.idle": "2021-04-28T08:59:38.289608Z",
     "shell.execute_reply": "2021-04-28T08:59:38.290191Z"
    },
    "papermill": {
     "duration": 0.219375,
     "end_time": "2021-04-28T08:59:38.290371",
     "exception": false,
     "start_time": "2021-04-28T08:59:38.070996",
     "status": "completed"
    },
    "tags": []
   },
   "outputs": [],
   "source": [
    "df.loc[(df['item_age']>0) & (df['item_cnt_lag1to12'].isna()), 'item_cnt_lag1to12'] = 0\n",
    "df.loc[(df['category_age']>0) & (df['category_cnt_lag1to12'].isna()), 'category_cnt_lag1to12'] = 0\n",
    "df.loc[(df['group_age']>0) & (df['group_cnt_lag1to12'].isna()), 'group_cnt_lag1to12'] = 0"
   ]
  },
  {
   "cell_type": "code",
   "execution_count": 49,
   "id": "moved-conservative",
   "metadata": {
    "execution": {
     "iopub.execute_input": "2021-04-28T08:59:38.479958Z",
     "iopub.status.busy": "2021-04-28T08:59:38.474489Z",
     "iopub.status.idle": "2021-04-28T09:00:36.943842Z",
     "shell.execute_reply": "2021-04-28T09:00:36.943083Z"
    },
    "papermill": {
     "duration": 58.589507,
     "end_time": "2021-04-28T09:00:36.944028",
     "exception": false,
     "start_time": "2021-04-28T08:59:38.354521",
     "status": "completed"
    },
    "tags": []
   },
   "outputs": [],
   "source": [
    "df['item_cnt_lag1to12'] /= [min(idx) for idx in zip(df['item_age'],df['shop_age'],[12]*len(df))]\n",
    "df['item_cnt_all_shops_lag1to12'] /= [min(idx) for idx in zip(df['item_age'],[12]*len(df))]\n",
    "df['category_cnt_lag1to12'] /= [min(idx) for idx in zip(df['category_age'],df['shop_age'],[12]*len(df))]\n",
    "df['category_cnt_all_shops_lag1to12'] /= [min(idx) for idx in zip(df['category_age'],[12]*len(df))]\n",
    "df['group_cnt_lag1to12'] /= [min(idx) for idx in zip(df['group_age'],df['shop_age'],[12]*len(df))]\n",
    "df['group_cnt_all_shops_lag1to12'] /= [min(idx) for idx in zip(df['group_age'],[12]*len(df))]\n",
    "df['city_cnt_lag1to12'] /= [min(idx) for idx in zip(df['date_block_num'],[12]*len(df))]\n",
    "df['shop_cnt_lag1to12'] /= [min(idx) for idx in zip(df['shop_age'],[12]*len(df))]\n",
    "df['new_items_in_cat_lag1to12'] /= [min(idx) for idx in zip(df['category_age'],df['shop_age'],[12]*len(df))]\n",
    "df['new_items_in_cat_all_shops_lag1to12'] /= [min(idx) for idx in zip(df['category_age'],[12]*len(df))]"
   ]
  },
  {
   "cell_type": "code",
   "execution_count": 50,
   "id": "accomplished-responsibility",
   "metadata": {
    "execution": {
     "iopub.execute_input": "2021-04-28T09:00:37.083343Z",
     "iopub.status.busy": "2021-04-28T09:00:37.082603Z",
     "iopub.status.idle": "2021-04-28T09:00:38.594782Z",
     "shell.execute_reply": "2021-04-28T09:00:38.594055Z"
    },
    "papermill": {
     "duration": 1.585656,
     "end_time": "2021-04-28T09:00:38.594942",
     "exception": false,
     "start_time": "2021-04-28T09:00:37.009286",
     "status": "completed"
    },
    "tags": []
   },
   "outputs": [],
   "source": [
    "df = downcast(df)"
   ]
  },
  {
   "cell_type": "code",
   "execution_count": 51,
   "id": "popular-broadcast",
   "metadata": {
    "execution": {
     "iopub.execute_input": "2021-04-28T09:00:38.733805Z",
     "iopub.status.busy": "2021-04-28T09:00:38.733038Z",
     "iopub.status.idle": "2021-04-28T09:03:15.427273Z",
     "shell.execute_reply": "2021-04-28T09:03:15.427866Z"
    },
    "papermill": {
     "duration": 156.768826,
     "end_time": "2021-04-28T09:03:15.428221",
     "exception": false,
     "start_time": "2021-04-28T09:00:38.659395",
     "status": "completed"
    },
    "tags": []
   },
   "outputs": [],
   "source": [
    "def past_information(df, merging_cols, new_col, aggregation):\n",
    "    temp = []\n",
    "    for i in range(1,35):\n",
    "        block = df.query(f'date_block_num < {i}').groupby(merging_cols).agg(aggregation).reset_index()\n",
    "        block.columns = merging_cols + [new_col]\n",
    "        block['date_block_num'] = i\n",
    "        block = block[block[new_col]>0]\n",
    "        temp.append(block)\n",
    "    temp = pd.concat(temp)\n",
    "    df = pd.merge(df, temp, on=['date_block_num']+merging_cols, how='left')\n",
    "    return df\n",
    "\n",
    "#average item price in latest block item was sold\n",
    "df = past_information(df, ['item_id'],'last_item_price',{'item_price':'last'})\n",
    "#total units of item sold at individual shop\n",
    "df = past_information(df, ['shop_id','item_id'],'item_cnt_sum_alltime',{'item_cnt':'sum'})\n",
    "#total units of item sold at all shops\n",
    "df = past_information(df, ['item_id'],'item_cnt_sum_alltime_allshops',{'item_cnt':'sum'})\n",
    "\n",
    "#these columns are no longer needed, and would cause data leakage if retained\n",
    "del df['revenue'], df['item_cnt_unclipped'], df['item_price']"
   ]
  },
  {
   "cell_type": "code",
   "execution_count": 52,
   "id": "destroyed-force",
   "metadata": {
    "execution": {
     "iopub.execute_input": "2021-04-28T09:03:15.569536Z",
     "iopub.status.busy": "2021-04-28T09:03:15.568632Z",
     "iopub.status.idle": "2021-04-28T09:03:15.591347Z",
     "shell.execute_reply": "2021-04-28T09:03:15.590681Z"
    },
    "papermill": {
     "duration": 0.097152,
     "end_time": "2021-04-28T09:03:15.591491",
     "exception": false,
     "start_time": "2021-04-28T09:03:15.494339",
     "status": "completed"
    },
    "tags": []
   },
   "outputs": [],
   "source": [
    "df['relative_price_item_block_lag1'] = df['last_item_price']/df['block_price_lag1']"
   ]
  },
  {
   "cell_type": "code",
   "execution_count": 53,
   "id": "ceramic-florence",
   "metadata": {
    "execution": {
     "iopub.execute_input": "2021-04-28T09:03:15.898301Z",
     "iopub.status.busy": "2021-04-28T09:03:15.897534Z",
     "iopub.status.idle": "2021-04-28T09:03:17.433155Z",
     "shell.execute_reply": "2021-04-28T09:03:17.432456Z"
    },
    "papermill": {
     "duration": 1.777242,
     "end_time": "2021-04-28T09:03:17.433312",
     "exception": false,
     "start_time": "2021-04-28T09:03:15.656070",
     "status": "completed"
    },
    "tags": []
   },
   "outputs": [],
   "source": [
    "import gc\n",
    "gc.collect()\n",
    "df = downcast(df)"
   ]
  },
  {
   "cell_type": "code",
   "execution_count": 54,
   "id": "varying-remove",
   "metadata": {
    "execution": {
     "iopub.execute_input": "2021-04-28T09:03:17.572188Z",
     "iopub.status.busy": "2021-04-28T09:03:17.571223Z",
     "iopub.status.idle": "2021-04-28T09:03:17.574934Z",
     "shell.execute_reply": "2021-04-28T09:03:17.574365Z"
    },
    "papermill": {
     "duration": 0.077171,
     "end_time": "2021-04-28T09:03:17.575085",
     "exception": false,
     "start_time": "2021-04-28T09:03:17.497914",
     "status": "completed"
    },
    "tags": []
   },
   "outputs": [],
   "source": [
    "def matching_name_cat_age(df,n,all_shops):\n",
    "    temp_cols = [f'same_name{n}catage_cnt','date_block_num', f'item_name_first{n}','item_age','item_category_id']\n",
    "    if all_shops:\n",
    "        temp_cols[0] += '_all_shops'\n",
    "    else:\n",
    "        temp_cols += ['shop_id']\n",
    "    temp = []\n",
    "    for i in range(1,35):\n",
    "        block = (\n",
    "            df\n",
    "            .query(f'date_block_num < {i}')\n",
    "            .groupby(temp_cols[2:])\n",
    "            .agg({'item_cnt':'mean'})\n",
    "            .reset_index()\n",
    "            .rename(columns={'item_cnt':temp_cols[0]})\n",
    "        )\n",
    "        block = block[block[temp_cols[0]]>0]\n",
    "        block['date_block_num'] = i\n",
    "        temp.append(block)\n",
    "    temp = pd.concat(temp)\n",
    "    df = pd.merge(df, temp, on=temp_cols[1:], how='left')\n",
    "    return df"
   ]
  },
  {
   "cell_type": "code",
   "execution_count": 55,
   "id": "banner-wellington",
   "metadata": {
    "execution": {
     "iopub.execute_input": "2021-04-28T09:03:17.791919Z",
     "iopub.status.busy": "2021-04-28T09:03:17.791203Z",
     "iopub.status.idle": "2021-04-28T09:12:40.597745Z",
     "shell.execute_reply": "2021-04-28T09:12:40.597133Z"
    },
    "papermill": {
     "duration": 562.957813,
     "end_time": "2021-04-28T09:12:40.597926",
     "exception": false,
     "start_time": "2021-04-28T09:03:17.640113",
     "status": "completed"
    },
    "tags": []
   },
   "outputs": [],
   "source": [
    "for n in [4,6,11]:\n",
    "    for all_shops in [True,False]:\n",
    "        df = matching_name_cat_age(df,n,all_shops)"
   ]
  },
  {
   "cell_type": "code",
   "execution_count": 56,
   "id": "stuffed-combining",
   "metadata": {
    "execution": {
     "iopub.execute_input": "2021-04-28T09:12:40.741592Z",
     "iopub.status.busy": "2021-04-28T09:12:40.740689Z",
     "iopub.status.idle": "2021-04-28T09:12:43.546304Z",
     "shell.execute_reply": "2021-04-28T09:12:43.545616Z"
    },
    "papermill": {
     "duration": 2.882461,
     "end_time": "2021-04-28T09:12:43.546467",
     "exception": false,
     "start_time": "2021-04-28T09:12:40.664006",
     "status": "completed"
    },
    "tags": []
   },
   "outputs": [],
   "source": [
    "df = downcast(df)\n",
    "int8_cols = [\n",
    "    'item_cnt','month','group_id',\n",
    "    'city','shop_id','date_block_num','item_category_id',\n",
    "    'item_age',\n",
    "]\n",
    "\n",
    "int16_cols = [\n",
    "    'item_id','item_name_first4',\n",
    "    'item_name_first6','item_name_first11'\n",
    "]\n",
    "for col in int8_cols:\n",
    "    df[col] = df[col].astype('int8')\n",
    "for col in int16_cols:\n",
    "    df[col] = df[col].astype('int16')"
   ]
  },
  {
   "cell_type": "code",
   "execution_count": 57,
   "id": "certified-split",
   "metadata": {
    "execution": {
     "iopub.execute_input": "2021-04-28T09:12:43.689353Z",
     "iopub.status.busy": "2021-04-28T09:12:43.688465Z",
     "iopub.status.idle": "2021-04-28T09:13:40.345089Z",
     "shell.execute_reply": "2021-04-28T09:13:40.344483Z"
    },
    "papermill": {
     "duration": 56.733321,
     "end_time": "2021-04-28T09:13:40.345268",
     "exception": false,
     "start_time": "2021-04-28T09:12:43.611947",
     "status": "completed"
    },
    "tags": []
   },
   "outputs": [],
   "source": [
    "def nearby_item_data(df,col):\n",
    "    if col in ['item_cnt_unclipped_lag1','item_cnt_lag1to12']:\n",
    "        cols = ['date_block_num', 'shop_id', 'item_id']\n",
    "        temp = df[cols + [col]] \n",
    "    else:\n",
    "        cols = ['date_block_num', 'item_id']\n",
    "        temp = df.groupby(cols).agg({col:'first'}).reset_index()[cols + [col]]   \n",
    "    \n",
    "    temp.columns = cols + [f'below_{col}']\n",
    "    temp['item_id'] += 1\n",
    "    df = pd.merge(df, temp, on=cols, how='left')\n",
    "    \n",
    "    temp.columns = cols + [f'above_{col}']\n",
    "    temp['item_id'] -= 2\n",
    "    df = pd.merge(df, temp, on=cols, how='left')\n",
    "    \n",
    "    return df\n",
    "\n",
    "item_cols = ['item_cnt_unclipped_lag1','item_cnt_lag1to12',\n",
    "             'item_cnt_all_shops_lag1','item_cnt_all_shops_lag1to12']\n",
    "for col in item_cols:\n",
    "    df = nearby_item_data(df,col)\n",
    "    \n",
    "del temp"
   ]
  },
  {
   "cell_type": "code",
   "execution_count": 58,
   "id": "diverse-uniform",
   "metadata": {
    "execution": {
     "iopub.execute_input": "2021-04-28T09:13:40.490643Z",
     "iopub.status.busy": "2021-04-28T09:13:40.489929Z",
     "iopub.status.idle": "2021-04-28T09:13:41.368401Z",
     "shell.execute_reply": "2021-04-28T09:13:41.369077Z"
    },
    "papermill": {
     "duration": 0.957584,
     "end_time": "2021-04-28T09:13:41.369289",
     "exception": false,
     "start_time": "2021-04-28T09:13:40.411705",
     "status": "completed"
    },
    "tags": []
   },
   "outputs": [],
   "source": [
    "results = Counter()\n",
    "items['item_name'].str.split().apply(results.update)\n",
    "\n",
    "words = []\n",
    "cnts = []\n",
    "for key, value in results.items():\n",
    "    words.append(key)\n",
    "    cnts.append(value)\n",
    "    \n",
    "counts = pd.DataFrame({'word':words,'count':cnts})\n",
    "common_words = counts.query('count>200').word.to_list()\n",
    "for word in common_words:\n",
    "    items[f'{word}_in_name'] = items['item_name'].str.contains(word).astype('int8')\n",
    "drop_cols = [\n",
    "    'item_id','item_category_id','item_name','item_name_first4',\n",
    "    'item_name_first6','item_name_first11','group','group_id'\n",
    "]\n",
    "items = items.drop(columns=drop_cols)"
   ]
  },
  {
   "cell_type": "code",
   "execution_count": 59,
   "id": "resident-parade",
   "metadata": {
    "execution": {
     "iopub.execute_input": "2021-04-28T09:13:41.503698Z",
     "iopub.status.busy": "2021-04-28T09:13:41.502957Z",
     "iopub.status.idle": "2021-04-28T09:13:44.145310Z",
     "shell.execute_reply": "2021-04-28T09:13:44.144599Z"
    },
    "papermill": {
     "duration": 2.71088,
     "end_time": "2021-04-28T09:13:44.145457",
     "exception": false,
     "start_time": "2021-04-28T09:13:41.434577",
     "status": "completed"
    },
    "tags": []
   },
   "outputs": [],
   "source": [
    "df = df.join(items, on='item_id')"
   ]
  },
  {
   "cell_type": "code",
   "execution_count": 60,
   "id": "further-saskatchewan",
   "metadata": {
    "execution": {
     "iopub.execute_input": "2021-04-28T09:13:44.288041Z",
     "iopub.status.busy": "2021-04-28T09:13:44.287255Z",
     "iopub.status.idle": "2021-04-28T09:14:07.903581Z",
     "shell.execute_reply": "2021-04-28T09:14:07.902318Z"
    },
    "papermill": {
     "duration": 23.692547,
     "end_time": "2021-04-28T09:14:07.903823",
     "exception": false,
     "start_time": "2021-04-28T09:13:44.211276",
     "status": "completed"
    },
    "tags": []
   },
   "outputs": [],
   "source": [
    "def binary_encode(df, letters, cols):\n",
    "    encoder = ce.BinaryEncoder(cols=[f'item_name_first{letters}'], return_df=True)\n",
    "    temp = encoder.fit_transform(df[f'item_name_first{letters}'])\n",
    "    df = pd.concat([df,temp], axis=1)\n",
    "    del df[f'item_name_first{letters}_0']\n",
    "    name_cols = [f'item_name_first{letters}_{x}' for x in range(1,cols)]\n",
    "    df[name_cols] = df[name_cols].astype('int8')\n",
    "    return df\n",
    "\n",
    "df = binary_encode(df, 11, 15)\n",
    "    \n",
    "del df['item_name_first4'], df['item_name_first6']"
   ]
  },
  {
   "cell_type": "code",
   "execution_count": 61,
   "id": "thorough-singing",
   "metadata": {
    "execution": {
     "iopub.execute_input": "2021-04-28T09:14:08.076297Z",
     "iopub.status.busy": "2021-04-28T09:14:08.074961Z",
     "iopub.status.idle": "2021-04-28T09:14:17.337267Z",
     "shell.execute_reply": "2021-04-28T09:14:17.336606Z"
    },
    "papermill": {
     "duration": 9.33973,
     "end_time": "2021-04-28T09:14:17.337434",
     "exception": false,
     "start_time": "2021-04-28T09:14:07.997704",
     "status": "completed"
    },
    "tags": []
   },
   "outputs": [],
   "source": [
    "df.to_pickle('df_complete.pkl')"
   ]
  },
  {
   "cell_type": "code",
   "execution_count": 62,
   "id": "solid-conversation",
   "metadata": {
    "execution": {
     "iopub.execute_input": "2021-04-28T09:14:24.138781Z",
     "iopub.status.busy": "2021-04-28T09:14:24.137783Z",
     "iopub.status.idle": "2021-04-28T09:14:24.424416Z",
     "shell.execute_reply": "2021-04-28T09:14:24.425049Z"
    },
    "papermill": {
     "duration": 0.376928,
     "end_time": "2021-04-28T09:14:24.425243",
     "exception": false,
     "start_time": "2021-04-28T09:14:24.048315",
     "status": "completed"
    },
    "tags": []
   },
   "outputs": [],
   "source": [
    "%reset -f"
   ]
  },
  {
   "cell_type": "code",
   "execution_count": 63,
   "id": "specialized-memphis",
   "metadata": {
    "execution": {
     "iopub.execute_input": "2021-04-28T09:14:28.784305Z",
     "iopub.status.busy": "2021-04-28T09:14:28.782238Z",
     "iopub.status.idle": "2021-04-28T09:14:29.114796Z",
     "shell.execute_reply": "2021-04-28T09:14:29.113994Z"
    },
    "papermill": {
     "duration": 2.642929,
     "end_time": "2021-04-28T09:14:29.114988",
     "exception": false,
     "start_time": "2021-04-28T09:14:26.472059",
     "status": "completed"
    },
    "tags": []
   },
   "outputs": [
    {
     "data": {
      "text/html": [
       "<style type='text/css'>\n",
       ".datatable table.frame { margin-bottom: 0; }\n",
       ".datatable table.frame thead { border-bottom: none; }\n",
       ".datatable table.frame tr.coltypes td {  color: #FFFFFF;  line-height: 6px;  padding: 0 0.5em;}\n",
       ".datatable .bool    { background: #DDDD99; }\n",
       ".datatable .object  { background: #565656; }\n",
       ".datatable .int     { background: #5D9E5D; }\n",
       ".datatable .float   { background: #4040CC; }\n",
       ".datatable .str     { background: #CC4040; }\n",
       ".datatable .row_index {  background: var(--jp-border-color3);  border-right: 1px solid var(--jp-border-color0);  color: var(--jp-ui-font-color3);  font-size: 9px;}\n",
       ".datatable .frame tr.coltypes .row_index {  background: var(--jp-border-color0);}\n",
       ".datatable th:nth-child(2) { padding-left: 12px; }\n",
       ".datatable .hellipsis {  color: var(--jp-cell-editor-border-color);}\n",
       ".datatable .vellipsis {  background: var(--jp-layout-color0);  color: var(--jp-cell-editor-border-color);}\n",
       ".datatable .na {  color: var(--jp-cell-editor-border-color);  font-size: 80%;}\n",
       ".datatable .footer { font-size: 9px; }\n",
       ".datatable .frame_dimensions {  background: var(--jp-border-color3);  border-top: 1px solid var(--jp-border-color0);  color: var(--jp-ui-font-color3);  display: inline-block;  opacity: 0.6;  padding: 1px 10px 1px 5px;}\n",
       "</style>\n"
      ],
      "text/plain": [
       "<IPython.core.display.HTML object>"
      ]
     },
     "metadata": {},
     "output_type": "display_data"
    }
   ],
   "source": [
    "import pandas as pd\n",
    "import lightgbm as lgb\n",
    "from plotly.subplots import make_subplots\n",
    "import plotly.graph_objects as go\n",
    "\n",
    "import warnings\n",
    "warnings.filterwarnings(\"ignore\")"
   ]
  },
  {
   "cell_type": "code",
   "execution_count": 64,
   "id": "modular-brass",
   "metadata": {
    "execution": {
     "iopub.execute_input": "2021-04-28T09:14:29.610576Z",
     "iopub.status.busy": "2021-04-28T09:14:29.609797Z",
     "iopub.status.idle": "2021-04-28T09:14:37.258583Z",
     "shell.execute_reply": "2021-04-28T09:14:37.259099Z"
    },
    "papermill": {
     "duration": 7.72327,
     "end_time": "2021-04-28T09:14:37.259302",
     "exception": false,
     "start_time": "2021-04-28T09:14:29.536032",
     "status": "completed"
    },
    "tags": []
   },
   "outputs": [],
   "source": [
    "df=pd.read_pickle('./df_complete.pkl')\n",
    "del df['item_category_name']\n",
    "\n",
    "x_train=df[~df['date_block_num'].isin([0,1,33,34])]\n",
    "y_train=x_train['item_cnt']\n",
    "del x_train['item_cnt']\n",
    "\n",
    "x_val=df[df['date_block_num']==33]\n",
    "y_val=x_val['item_cnt']\n",
    "del x_val['item_cnt']\n",
    "\n",
    "x_test=df[df['date_block_num']==34].drop(columns='item_cnt').reset_index()\n",
    "del x_test['index']\n",
    "\n",
    "del df"
   ]
  },
  {
   "cell_type": "code",
   "execution_count": 65,
   "id": "satisfactory-warehouse",
   "metadata": {
    "execution": {
     "iopub.execute_input": "2021-04-28T09:14:37.397585Z",
     "iopub.status.busy": "2021-04-28T09:14:37.396575Z",
     "iopub.status.idle": "2021-04-28T09:14:37.402513Z",
     "shell.execute_reply": "2021-04-28T09:14:37.403004Z"
    },
    "papermill": {
     "duration": 0.077795,
     "end_time": "2021-04-28T09:14:37.403204",
     "exception": false,
     "start_time": "2021-04-28T09:14:37.325409",
     "status": "completed"
    },
    "tags": []
   },
   "outputs": [],
   "source": [
    "def build_lgb_model(params,x_train,y_train,x_val,y_val,cat_features):\n",
    "    lgb_train=lgb.Dataset(x_train,y_train)\n",
    "    lgb_val=lgb.Dataset(x_val,y_val)\n",
    "    \n",
    "    model=lgb.train(params=params, train_set=lgb_train, valid_sets=(lgb_train,lgb_val), verbose_eval=50, categorical_feature=cat_features)\n",
    "    return model"
   ]
  },
  {
   "cell_type": "code",
   "execution_count": 66,
   "id": "absolute-traveler",
   "metadata": {
    "execution": {
     "iopub.execute_input": "2021-04-28T09:14:37.540084Z",
     "iopub.status.busy": "2021-04-28T09:14:37.539135Z",
     "iopub.status.idle": "2021-04-28T09:28:53.935316Z",
     "shell.execute_reply": "2021-04-28T09:28:53.934611Z"
    },
    "papermill": {
     "duration": 856.465726,
     "end_time": "2021-04-28T09:28:53.935525",
     "exception": false,
     "start_time": "2021-04-28T09:14:37.469799",
     "status": "completed"
    },
    "tags": []
   },
   "outputs": [
    {
     "name": "stdout",
     "output_type": "stream",
     "text": [
      "[LightGBM] [Warning] Auto-choosing col-wise multi-threading, the overhead of testing was 9.783776 seconds.\n",
      "You can set `force_col_wise=true` to remove the overhead.\n",
      "[LightGBM] [Info] Total Bins 29559\n",
      "[LightGBM] [Info] Number of data points in the train set: 7876992, number of used features: 149\n",
      "[LightGBM] [Info] Start training from score 0.310160\n",
      "Training until validation scores don't improve for 30 rounds\n",
      "[50]\ttraining's rmse: 0.897946\tvalid_1's rmse: 0.833111\n",
      "[100]\ttraining's rmse: 0.707859\tvalid_1's rmse: 0.710896\n",
      "[150]\ttraining's rmse: 0.603499\tvalid_1's rmse: 0.659134\n",
      "[200]\ttraining's rmse: 0.542632\tvalid_1's rmse: 0.634736\n",
      "[250]\ttraining's rmse: 0.503549\tvalid_1's rmse: 0.624156\n",
      "[300]\ttraining's rmse: 0.478102\tvalid_1's rmse: 0.619438\n",
      "[350]\ttraining's rmse: 0.459154\tvalid_1's rmse: 0.617231\n",
      "[400]\ttraining's rmse: 0.444354\tvalid_1's rmse: 0.616131\n",
      "Early stopping, best iteration is:\n",
      "[418]\ttraining's rmse: 0.439646\tvalid_1's rmse: 0.615588\n"
     ]
    },
    {
     "data": {
      "text/plain": [
       "<lightgbm.basic.Booster at 0x7fbcdf773110>"
      ]
     },
     "execution_count": 66,
     "metadata": {},
     "output_type": "execute_result"
    }
   ],
   "source": [
    "params = {\n",
    "    'objective': 'rmse',\n",
    "    'metric': 'rmse',\n",
    "    'num_leaves': 1023,\n",
    "    'min_data_in_leaf':10,\n",
    "    'feature_fraction':0.7,\n",
    "    'learning_rate': 0.01,\n",
    "    'num_rounds': 1000,\n",
    "    'early_stopping_rounds': 30,\n",
    "    'seed': 1\n",
    "}\n",
    "cat_features=['item_category_id','shop_id','month','item_id','city']\n",
    "lgb_model=build_lgb_model(params,x_train,y_train,x_val,y_val,cat_features)\n",
    "lgb_model.save_model('initial_lgb_model.txt')"
   ]
  },
  {
   "cell_type": "code",
   "execution_count": 67,
   "id": "center-radius",
   "metadata": {
    "execution": {
     "iopub.execute_input": "2021-04-28T09:28:54.088031Z",
     "iopub.status.busy": "2021-04-28T09:28:54.087162Z",
     "iopub.status.idle": "2021-04-28T09:29:01.800266Z",
     "shell.execute_reply": "2021-04-28T09:29:01.799466Z"
    },
    "papermill": {
     "duration": 7.793258,
     "end_time": "2021-04-28T09:29:01.800427",
     "exception": false,
     "start_time": "2021-04-28T09:28:54.007169",
     "status": "completed"
    },
    "tags": []
   },
   "outputs": [],
   "source": [
    "submission = pd.read_csv('../input/competitive-data-science-predict-future-sales/sample_submission.csv')\n",
    "submission['item_cnt_month'] = lgb_model.predict(x_test).clip(0,20)\n",
    "submission[['ID', 'item_cnt_month']].to_csv('initial_lgb_submission.csv', index=False)"
   ]
  },
  {
   "cell_type": "code",
   "execution_count": null,
   "id": "primary-virtue",
   "metadata": {
    "papermill": {
     "duration": 0.072815,
     "end_time": "2021-04-28T09:29:01.944595",
     "exception": false,
     "start_time": "2021-04-28T09:29:01.871780",
     "status": "completed"
    },
    "tags": []
   },
   "outputs": [],
   "source": []
  }
 ],
 "metadata": {
  "kernelspec": {
   "display_name": "Python 3",
   "language": "python",
   "name": "python3"
  },
  "language_info": {
   "codemirror_mode": {
    "name": "ipython",
    "version": 3
   },
   "file_extension": ".py",
   "mimetype": "text/x-python",
   "name": "python",
   "nbconvert_exporter": "python",
   "pygments_lexer": "ipython3",
   "version": "3.7.9"
  },
  "papermill": {
   "default_parameters": {},
   "duration": 2950.685809,
   "end_time": "2021-04-28T09:29:03.030747",
   "environment_variables": {},
   "exception": null,
   "input_path": "__notebook__.ipynb",
   "output_path": "__notebook__.ipynb",
   "parameters": {},
   "start_time": "2021-04-28T08:39:52.344938",
   "version": "2.3.2"
  }
 },
 "nbformat": 4,
 "nbformat_minor": 5
}
